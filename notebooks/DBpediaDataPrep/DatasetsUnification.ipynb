{
 "cells": [
  {
   "cell_type": "code",
   "execution_count": 4,
   "metadata": {},
   "outputs": [],
   "source": [
    "import pandas as pd\n",
    "import json\n",
    "\n",
    "import uuid"
   ]
  },
  {
   "cell_type": "code",
   "execution_count": 2,
   "metadata": {},
   "outputs": [],
   "source": [
    "with open(\"../../freebase_api/top_level_dbpedia_types.json\", 'r', encoding='utf-8') as f:\n",
    "    top_level_json = json.load(f)"
   ]
  },
  {
   "cell_type": "code",
   "execution_count": 3,
   "metadata": {},
   "outputs": [],
   "source": [
    "top_level_types = list()\n",
    "\n",
    "for type_ in top_level_json['results']['bindings']:\n",
    "    top_level_types.append(type_['type']['value'])"
   ]
  },
  {
   "cell_type": "markdown",
   "metadata": {},
   "source": [
    "## QALD"
   ]
  },
  {
   "cell_type": "code",
   "execution_count": 12,
   "metadata": {},
   "outputs": [
    {
     "name": "stdout",
     "output_type": "stream",
     "text": [
      "(393, 3) (141, 3)\n"
     ]
    }
   ],
   "source": [
    "qald_train = pd.read_csv(\"../../data/QALD/rdf/QALD-train.csv\")\n",
    "qald_test = pd.read_csv(\"../../data/QALD/rdf/QALD-test.csv\")\n",
    "print(qald_train.shape, qald_test.shape)"
   ]
  },
  {
   "cell_type": "code",
   "execution_count": 13,
   "metadata": {},
   "outputs": [
    {
     "data": {
      "text/html": [
       "<div>\n",
       "<style scoped>\n",
       "    .dataframe tbody tr th:only-of-type {\n",
       "        vertical-align: middle;\n",
       "    }\n",
       "\n",
       "    .dataframe tbody tr th {\n",
       "        vertical-align: top;\n",
       "    }\n",
       "\n",
       "    .dataframe thead th {\n",
       "        text-align: right;\n",
       "    }\n",
       "</style>\n",
       "<table border=\"1\" class=\"dataframe\">\n",
       "  <thead>\n",
       "    <tr style=\"text-align: right;\">\n",
       "      <th></th>\n",
       "      <th>question</th>\n",
       "      <th>questionText</th>\n",
       "      <th>type</th>\n",
       "    </tr>\n",
       "  </thead>\n",
       "  <tbody>\n",
       "    <tr>\n",
       "      <th>0</th>\n",
       "      <td>urn:QALD:id:1</td>\n",
       "      <td>List all boardgames by GMT.</td>\n",
       "      <td>http://dbpedia.org/ontology/Activity</td>\n",
       "    </tr>\n",
       "    <tr>\n",
       "      <th>1</th>\n",
       "      <td>urn:QALD:id:290</td>\n",
       "      <td>List all games by GMT.</td>\n",
       "      <td>http://dbpedia.org/ontology/Activity</td>\n",
       "    </tr>\n",
       "    <tr>\n",
       "      <th>2</th>\n",
       "      <td>urn:QALD:id:4</td>\n",
       "      <td>In which U.S. state is Area 51 located?</td>\n",
       "      <td>http://dbpedia.org/ontology/Place</td>\n",
       "    </tr>\n",
       "    <tr>\n",
       "      <th>3</th>\n",
       "      <td>urn:QALD:id:6</td>\n",
       "      <td>Which countries have places with more than two...</td>\n",
       "      <td>http://dbpedia.org/ontology/Place</td>\n",
       "    </tr>\n",
       "    <tr>\n",
       "      <th>4</th>\n",
       "      <td>urn:QALD:id:7</td>\n",
       "      <td>Where did Abraham Lincoln die?</td>\n",
       "      <td>http://dbpedia.org/ontology/Place</td>\n",
       "    </tr>\n",
       "  </tbody>\n",
       "</table>\n",
       "</div>"
      ],
      "text/plain": [
       "          question                                       questionText  \\\n",
       "0    urn:QALD:id:1                        List all boardgames by GMT.   \n",
       "1  urn:QALD:id:290                             List all games by GMT.   \n",
       "2    urn:QALD:id:4            In which U.S. state is Area 51 located?   \n",
       "3    urn:QALD:id:6  Which countries have places with more than two...   \n",
       "4    urn:QALD:id:7                     Where did Abraham Lincoln die?   \n",
       "\n",
       "                                   type  \n",
       "0  http://dbpedia.org/ontology/Activity  \n",
       "1  http://dbpedia.org/ontology/Activity  \n",
       "2     http://dbpedia.org/ontology/Place  \n",
       "3     http://dbpedia.org/ontology/Place  \n",
       "4     http://dbpedia.org/ontology/Place  "
      ]
     },
     "execution_count": 13,
     "metadata": {},
     "output_type": "execute_result"
    }
   ],
   "source": [
    "qald_train.head()"
   ]
  },
  {
   "cell_type": "code",
   "execution_count": 14,
   "metadata": {},
   "outputs": [],
   "source": [
    "def add_missing_questions(dataset):\n",
    "    #determine missing types\n",
    "    non_existing_types = []\n",
    "    for type_ in top_level_types:\n",
    "        if type_ not in dataset.type.unique():\n",
    "            non_existing_types.append(type_)\n",
    "    \n",
    "    #filli dict with fantom questions of missing types\n",
    "    fantom_questions = {'question': [], 'questionText': [], 'type': []}\n",
    "    for type_ in non_existing_types:\n",
    "        fantom_questions['question'].append('fantom')\n",
    "        fantom_questions['questionText'].append(\"This is fantom {type_} question\".format(type_=type_.replace(\"http://dbpedia.org/ontology/\", \"\")))\n",
    "        fantom_questions['type'].append(type_)\n",
    "\n",
    "    #append missing questions to the original dataset\n",
    "    dataset = dataset.append(pd.DataFrame.from_dict(fantom_questions))\n",
    "    return dataset\n",
    "\n",
    "\n",
    "ADD_MISSING_QUESTIONS = True\n",
    "\n",
    "if ADD_MISSING_QUESTIONS:\n",
    "    qald_train = add_missing_questions(qald_train)\n",
    "    qald_test = add_missing_questions(qald_test)"
   ]
  },
  {
   "cell_type": "code",
   "execution_count": 18,
   "metadata": {},
   "outputs": [],
   "source": [
    "for dataset in [qald_train, qald_test]:\n",
    "    #renaming primitive types\n",
    "    dataset.replace(['urn:QALD:answertype:number',\n",
    "                        'urn:QALD:answertype:boolean', \n",
    "                        'urn:QALD:answertype:string', \n",
    "                        'urn:QALD:answertype:date', \n",
    "                        'urn:QALD:answertype:uri'],\n",
    "                        ['Number', 'Boolean', 'String', 'DateTime', 'String'], inplace=True)\n",
    "    \n",
    "    #renaming dbpedia types\n",
    "    dataset.type = dataset.type.apply(lambda x: str(x.replace(\"http://dbpedia.org/ontology/\",\"\")))"
   ]
  },
  {
   "cell_type": "code",
   "execution_count": 19,
   "metadata": {},
   "outputs": [
    {
     "data": {
      "text/html": [
       "<div>\n",
       "<style scoped>\n",
       "    .dataframe tbody tr th:only-of-type {\n",
       "        vertical-align: middle;\n",
       "    }\n",
       "\n",
       "    .dataframe tbody tr th {\n",
       "        vertical-align: top;\n",
       "    }\n",
       "\n",
       "    .dataframe thead th {\n",
       "        text-align: right;\n",
       "    }\n",
       "</style>\n",
       "<table border=\"1\" class=\"dataframe\">\n",
       "  <thead>\n",
       "    <tr style=\"text-align: right;\">\n",
       "      <th></th>\n",
       "      <th>question</th>\n",
       "      <th>questionText</th>\n",
       "      <th>type</th>\n",
       "    </tr>\n",
       "  </thead>\n",
       "  <tbody>\n",
       "    <tr>\n",
       "      <th>0</th>\n",
       "      <td>urn:QALD:id:1</td>\n",
       "      <td>List all boardgames by GMT.</td>\n",
       "      <td>Activity</td>\n",
       "    </tr>\n",
       "    <tr>\n",
       "      <th>1</th>\n",
       "      <td>urn:QALD:id:290</td>\n",
       "      <td>List all games by GMT.</td>\n",
       "      <td>Activity</td>\n",
       "    </tr>\n",
       "    <tr>\n",
       "      <th>2</th>\n",
       "      <td>urn:QALD:id:4</td>\n",
       "      <td>In which U.S. state is Area 51 located?</td>\n",
       "      <td>Place</td>\n",
       "    </tr>\n",
       "    <tr>\n",
       "      <th>3</th>\n",
       "      <td>urn:QALD:id:6</td>\n",
       "      <td>Which countries have places with more than two...</td>\n",
       "      <td>Place</td>\n",
       "    </tr>\n",
       "    <tr>\n",
       "      <th>4</th>\n",
       "      <td>urn:QALD:id:7</td>\n",
       "      <td>Where did Abraham Lincoln die?</td>\n",
       "      <td>Place</td>\n",
       "    </tr>\n",
       "  </tbody>\n",
       "</table>\n",
       "</div>"
      ],
      "text/plain": [
       "          question                                       questionText  \\\n",
       "0    urn:QALD:id:1                        List all boardgames by GMT.   \n",
       "1  urn:QALD:id:290                             List all games by GMT.   \n",
       "2    urn:QALD:id:4            In which U.S. state is Area 51 located?   \n",
       "3    urn:QALD:id:6  Which countries have places with more than two...   \n",
       "4    urn:QALD:id:7                     Where did Abraham Lincoln die?   \n",
       "\n",
       "       type  \n",
       "0  Activity  \n",
       "1  Activity  \n",
       "2     Place  \n",
       "3     Place  \n",
       "4     Place  "
      ]
     },
     "execution_count": 19,
     "metadata": {},
     "output_type": "execute_result"
    }
   ],
   "source": [
    "qald_train.head()"
   ]
  },
  {
   "cell_type": "code",
   "execution_count": 20,
   "metadata": {},
   "outputs": [
    {
     "data": {
      "text/plain": [
       "Agent                            125\n",
       "Place                             87\n",
       "Number                            52\n",
       "Work                              38\n",
       "Boolean                           37\n",
       "DateTime                          15\n",
       "String                            12\n",
       "Language                           6\n",
       "MeanOfTransportation               3\n",
       "Disease                            3\n",
       "Holiday                            3\n",
       "Food                               2\n",
       "Currency                           2\n",
       "Activity                           2\n",
       "Device                             2\n",
       "Relationship                       1\n",
       "Altitude                           1\n",
       "GrossDomesticProduct               1\n",
       "PersonFunction                     1\n",
       "PublicService                      1\n",
       "AnatomicalStructure                1\n",
       "ElectionDiagram                    1\n",
       "RouteStop                          1\n",
       "Medicine                           1\n",
       "Event                              1\n",
       "Demographics                       1\n",
       "Flag                               1\n",
       "Depth                              1\n",
       "Diploma                            1\n",
       "PenaltyShootOut                    1\n",
       "SportsSeason                       1\n",
       "TimePeriod                         1\n",
       "EthnicGroup                        1\n",
       "Species                            1\n",
       "SportCompetitionResult             1\n",
       "Polyhedron                         1\n",
       "Name                               1\n",
       "Area                               1\n",
       "Award                              1\n",
       "HumanDevelopmentIndex              1\n",
       "Statistic                          1\n",
       "Population                         1\n",
       "Blazon                             1\n",
       "ChemicalSubstance                  1\n",
       "List                               1\n",
       "Unknown                            1\n",
       "ChartsPlacements                   1\n",
       "Media                              1\n",
       "GrossDomesticProductPerCapita      1\n",
       "TopicalConcept                     1\n",
       "UnitOfWork                         1\n",
       "Biomolecule                        1\n",
       "Colour                             1\n",
       "GeneLocation                       1\n",
       "Name: type, dtype: int64"
      ]
     },
     "execution_count": 20,
     "metadata": {},
     "output_type": "execute_result"
    }
   ],
   "source": [
    "qald_train.type.value_counts()"
   ]
  },
  {
   "cell_type": "code",
   "execution_count": 21,
   "metadata": {},
   "outputs": [],
   "source": [
    "#saving final dataset to the files\n",
    "qald_train.to_csv(\"../../data/QALD/prep_dbpedia/QALD-train.csv\", index=False, sep=';')\n",
    "qald_test.to_csv(\"../../data/QALD/prep_dbpedia/QALD-test.csv\", index=False, sep=';')"
   ]
  },
  {
   "cell_type": "markdown",
   "metadata": {},
   "source": [
    "## LC-QuAD"
   ]
  },
  {
   "cell_type": "code",
   "execution_count": 7,
   "metadata": {},
   "outputs": [
    {
     "name": "stdout",
     "output_type": "stream",
     "text": [
      "(1868, 3) (462, 3)\n"
     ]
    }
   ],
   "source": [
    "lcquad_train = pd.read_csv(\"../../data/LC-QuAD/RDF/LC-QuAD-train.csv\")\n",
    "lcquad_test = pd.read_csv(\"../../data/LC-QuAD/RDF/LC-QuAD-test.csv\")\n",
    "\n",
    "lcquad_train = lcquad_train[lcquad_train.type != 'urn:LCQuAD:answertype:remove']\n",
    "lcquad_test = lcquad_test[lcquad_test.type != 'urn:LCQuAD:answertype:remove']\n",
    "\n",
    "print(lcquad_train.shape, lcquad_test.shape)"
   ]
  },
  {
   "cell_type": "code",
   "execution_count": 8,
   "metadata": {},
   "outputs": [
    {
     "data": {
      "text/html": [
       "<div>\n",
       "<style scoped>\n",
       "    .dataframe tbody tr th:only-of-type {\n",
       "        vertical-align: middle;\n",
       "    }\n",
       "\n",
       "    .dataframe tbody tr th {\n",
       "        vertical-align: top;\n",
       "    }\n",
       "\n",
       "    .dataframe thead th {\n",
       "        text-align: right;\n",
       "    }\n",
       "</style>\n",
       "<table border=\"1\" class=\"dataframe\">\n",
       "  <thead>\n",
       "    <tr style=\"text-align: right;\">\n",
       "      <th></th>\n",
       "      <th>question</th>\n",
       "      <th>questionText</th>\n",
       "      <th>type</th>\n",
       "    </tr>\n",
       "  </thead>\n",
       "  <tbody>\n",
       "    <tr>\n",
       "      <th>0</th>\n",
       "      <td>urn:LCQuAD:id:4635</td>\n",
       "      <td>What is the occupation of the Irving Chernev a...</td>\n",
       "      <td>http://dbpedia.org/ontology/Activity</td>\n",
       "    </tr>\n",
       "    <tr>\n",
       "      <th>1</th>\n",
       "      <td>urn:LCQuAD:id:2527</td>\n",
       "      <td>What sport amongst the one Lagos Preparatory S...</td>\n",
       "      <td>http://dbpedia.org/ontology/Activity</td>\n",
       "    </tr>\n",
       "    <tr>\n",
       "      <th>2</th>\n",
       "      <td>urn:LCQuAD:id:151</td>\n",
       "      <td>Which sports are played at institues in Taguig?</td>\n",
       "      <td>http://dbpedia.org/ontology/Activity</td>\n",
       "    </tr>\n",
       "    <tr>\n",
       "      <th>3</th>\n",
       "      <td>urn:LCQuAD:id:4863</td>\n",
       "      <td>List the common sports between Fr. Agnel Multi...</td>\n",
       "      <td>http://dbpedia.org/ontology/Activity</td>\n",
       "    </tr>\n",
       "    <tr>\n",
       "      <th>4</th>\n",
       "      <td>urn:LCQuAD:id:4058</td>\n",
       "      <td>What is the game whose genre is Mind sport?</td>\n",
       "      <td>http://dbpedia.org/ontology/Activity</td>\n",
       "    </tr>\n",
       "  </tbody>\n",
       "</table>\n",
       "</div>"
      ],
      "text/plain": [
       "             question                                       questionText  \\\n",
       "0  urn:LCQuAD:id:4635  What is the occupation of the Irving Chernev a...   \n",
       "1  urn:LCQuAD:id:2527  What sport amongst the one Lagos Preparatory S...   \n",
       "2   urn:LCQuAD:id:151    Which sports are played at institues in Taguig?   \n",
       "3  urn:LCQuAD:id:4863  List the common sports between Fr. Agnel Multi...   \n",
       "4  urn:LCQuAD:id:4058        What is the game whose genre is Mind sport?   \n",
       "\n",
       "                                   type  \n",
       "0  http://dbpedia.org/ontology/Activity  \n",
       "1  http://dbpedia.org/ontology/Activity  \n",
       "2  http://dbpedia.org/ontology/Activity  \n",
       "3  http://dbpedia.org/ontology/Activity  \n",
       "4  http://dbpedia.org/ontology/Activity  "
      ]
     },
     "execution_count": 8,
     "metadata": {},
     "output_type": "execute_result"
    }
   ],
   "source": [
    "lcquad_train.head()"
   ]
  },
  {
   "cell_type": "code",
   "execution_count": 9,
   "metadata": {},
   "outputs": [],
   "source": [
    "for dataset in [lcquad_train, lcquad_test]:\n",
    "    #renaming primitive types\n",
    "    dataset.replace(['urn:LCQuAD:answertype:number',\n",
    "                        'urn:LCQuAD:answertype:boolean', \n",
    "                        'urn:LCQuAD:answertype:string', \n",
    "                        'urn:LCQuAD:answertype:date', \n",
    "                        'urn:LCQuAD:answertype:uri'],\n",
    "                        ['Number', 'Boolean', 'String', 'DateTime', 'String'], inplace=True)\n",
    "    \n",
    "    #renaming dbpedia types\n",
    "    dataset.type = dataset.type.apply(lambda x: str(x.replace(\"http://dbpedia.org/ontology/\",\"\")))"
   ]
  },
  {
   "cell_type": "code",
   "execution_count": 10,
   "metadata": {},
   "outputs": [
    {
     "data": {
      "text/html": [
       "<div>\n",
       "<style scoped>\n",
       "    .dataframe tbody tr th:only-of-type {\n",
       "        vertical-align: middle;\n",
       "    }\n",
       "\n",
       "    .dataframe tbody tr th {\n",
       "        vertical-align: top;\n",
       "    }\n",
       "\n",
       "    .dataframe thead th {\n",
       "        text-align: right;\n",
       "    }\n",
       "</style>\n",
       "<table border=\"1\" class=\"dataframe\">\n",
       "  <thead>\n",
       "    <tr style=\"text-align: right;\">\n",
       "      <th></th>\n",
       "      <th>question</th>\n",
       "      <th>questionText</th>\n",
       "      <th>type</th>\n",
       "    </tr>\n",
       "  </thead>\n",
       "  <tbody>\n",
       "    <tr>\n",
       "      <th>0</th>\n",
       "      <td>urn:LCQuAD:id:4635</td>\n",
       "      <td>What is the occupation of the Irving Chernev a...</td>\n",
       "      <td>Activity</td>\n",
       "    </tr>\n",
       "    <tr>\n",
       "      <th>1</th>\n",
       "      <td>urn:LCQuAD:id:2527</td>\n",
       "      <td>What sport amongst the one Lagos Preparatory S...</td>\n",
       "      <td>Activity</td>\n",
       "    </tr>\n",
       "    <tr>\n",
       "      <th>2</th>\n",
       "      <td>urn:LCQuAD:id:151</td>\n",
       "      <td>Which sports are played at institues in Taguig?</td>\n",
       "      <td>Activity</td>\n",
       "    </tr>\n",
       "    <tr>\n",
       "      <th>3</th>\n",
       "      <td>urn:LCQuAD:id:4863</td>\n",
       "      <td>List the common sports between Fr. Agnel Multi...</td>\n",
       "      <td>Activity</td>\n",
       "    </tr>\n",
       "    <tr>\n",
       "      <th>4</th>\n",
       "      <td>urn:LCQuAD:id:4058</td>\n",
       "      <td>What is the game whose genre is Mind sport?</td>\n",
       "      <td>Activity</td>\n",
       "    </tr>\n",
       "  </tbody>\n",
       "</table>\n",
       "</div>"
      ],
      "text/plain": [
       "             question                                       questionText  \\\n",
       "0  urn:LCQuAD:id:4635  What is the occupation of the Irving Chernev a...   \n",
       "1  urn:LCQuAD:id:2527  What sport amongst the one Lagos Preparatory S...   \n",
       "2   urn:LCQuAD:id:151    Which sports are played at institues in Taguig?   \n",
       "3  urn:LCQuAD:id:4863  List the common sports between Fr. Agnel Multi...   \n",
       "4  urn:LCQuAD:id:4058        What is the game whose genre is Mind sport?   \n",
       "\n",
       "       type  \n",
       "0  Activity  \n",
       "1  Activity  \n",
       "2  Activity  \n",
       "3  Activity  \n",
       "4  Activity  "
      ]
     },
     "execution_count": 10,
     "metadata": {},
     "output_type": "execute_result"
    }
   ],
   "source": [
    "lcquad_train.head()"
   ]
  },
  {
   "cell_type": "code",
   "execution_count": 12,
   "metadata": {},
   "outputs": [
    {
     "data": {
      "text/plain": [
       "Number                  535\n",
       "Agent                   439\n",
       "Place                   311\n",
       "Boolean                 285\n",
       "Work                    137\n",
       "Activity                 38\n",
       "EthnicGroup              23\n",
       "Award                    23\n",
       "String                   19\n",
       "Event                    14\n",
       "Species                  13\n",
       "Device                    9\n",
       "Disease                   5\n",
       "Food                      4\n",
       "Currency                  3\n",
       "Language                  3\n",
       "AnatomicalStructure       3\n",
       "MeanOfTransportation      2\n",
       "PersonFunction            1\n",
       "TopicalConcept            1\n",
       "Name: type, dtype: int64"
      ]
     },
     "execution_count": 12,
     "metadata": {},
     "output_type": "execute_result"
    }
   ],
   "source": [
    "lcquad_train.type.value_counts()"
   ]
  },
  {
   "cell_type": "code",
   "execution_count": 13,
   "metadata": {},
   "outputs": [],
   "source": [
    "#saving final dataset to the files\n",
    "lcquad_train.to_csv(\"../../data/LC-QuAD/prep_dbpedia/LC-QuAD-train.csv\", index=False, sep=';')\n",
    "lcquad_test.to_csv(\"../../data/LC-QuAD/prep_dbpedia/LC-QuAD-test.csv\", index=False, sep=';')"
   ]
  },
  {
   "cell_type": "markdown",
   "metadata": {},
   "source": [
    "## WebQuestions"
   ]
  },
  {
   "cell_type": "code",
   "execution_count": 100,
   "metadata": {},
   "outputs": [
    {
     "name": "stdout",
     "output_type": "stream",
     "text": [
      "(2779, 8) (2007, 7)\n"
     ]
    }
   ],
   "source": [
    "webq_train = pd.read_csv(\"../../data/WebQuestions/Manually Labeled/train.csv\")\n",
    "webq_test = pd.read_csv(\"../../data/WebQuestions/Manually Labeled/test.csv\")\n",
    "webq_val = pd.read_csv(\"../../data/WebQuestions/Manually Labeled/val.csv\")\n",
    "webq_devtest = pd.read_csv(\"../../data/WebQuestions/Manually Labeled/devtest.csv\")\n",
    "\n",
    "\n",
    "webq_train = webq_train[webq_train['Manual Annotation'] != 'REMOVE']\n",
    "webq_test = webq_test[webq_test['Manual Annotation'] != 'REMOVE']\n",
    "webq_val = webq_val[webq_val['Manual Annotation'] != 'REMOVE']\n",
    "webq_devtest = webq_devtest[webq_devtest['Manual Annotation'] != 'REMOVE']\n",
    "\n",
    "print(webq_train.shape, webq_test.shape)"
   ]
  },
  {
   "cell_type": "code",
   "execution_count": 101,
   "metadata": {},
   "outputs": [
    {
     "data": {
      "text/html": [
       "<div>\n",
       "<style scoped>\n",
       "    .dataframe tbody tr th:only-of-type {\n",
       "        vertical-align: middle;\n",
       "    }\n",
       "\n",
       "    .dataframe tbody tr th {\n",
       "        vertical-align: top;\n",
       "    }\n",
       "\n",
       "    .dataframe thead th {\n",
       "        text-align: right;\n",
       "    }\n",
       "</style>\n",
       "<table border=\"1\" class=\"dataframe\">\n",
       "  <thead>\n",
       "    <tr style=\"text-align: right;\">\n",
       "      <th></th>\n",
       "      <th>Number</th>\n",
       "      <th>question</th>\n",
       "      <th>Annotated Class</th>\n",
       "      <th>Manual Annotation</th>\n",
       "      <th>class</th>\n",
       "      <th>Manual Check</th>\n",
       "      <th>Remarks</th>\n",
       "      <th>Number of empty annotations: 1</th>\n",
       "    </tr>\n",
       "  </thead>\n",
       "  <tbody>\n",
       "    <tr>\n",
       "      <th>0</th>\n",
       "      <td>1</td>\n",
       "      <td>during what war did abraham lincoln serve as p...</td>\n",
       "      <td>Event</td>\n",
       "      <td>Event (Competition, LifeCycleEvent, NaturalEve...</td>\n",
       "      <td>DATE-TIME</td>\n",
       "      <td>NaN</td>\n",
       "      <td>NaN</td>\n",
       "      <td>NaN</td>\n",
       "    </tr>\n",
       "    <tr>\n",
       "      <th>1</th>\n",
       "      <td>2</td>\n",
       "      <td>from which university did president obama rece...</td>\n",
       "      <td>Place</td>\n",
       "      <td>Place (ArchitecturalStructure, CelestialBody, ...</td>\n",
       "      <td>LOC</td>\n",
       "      <td>NaN</td>\n",
       "      <td>NaN</td>\n",
       "      <td>NaN</td>\n",
       "    </tr>\n",
       "    <tr>\n",
       "      <th>2</th>\n",
       "      <td>3</td>\n",
       "      <td>how long is queen victoria's reign?</td>\n",
       "      <td>Number</td>\n",
       "      <td>Number (Integer, Float, Salary, Height)</td>\n",
       "      <td>['base.kwebbase.kwsentence']</td>\n",
       "      <td>NaN</td>\n",
       "      <td>NaN</td>\n",
       "      <td>NaN</td>\n",
       "    </tr>\n",
       "    <tr>\n",
       "      <th>3</th>\n",
       "      <td>4</td>\n",
       "      <td>how many australian states and territories?</td>\n",
       "      <td>Number</td>\n",
       "      <td>Number (Integer, Float, Salary, Height)</td>\n",
       "      <td>LOC</td>\n",
       "      <td>NaN</td>\n",
       "      <td>NaN</td>\n",
       "      <td>NaN</td>\n",
       "    </tr>\n",
       "    <tr>\n",
       "      <th>4</th>\n",
       "      <td>5</td>\n",
       "      <td>how many languages are there in the philippines?</td>\n",
       "      <td>Number</td>\n",
       "      <td>Number (Integer, Float, Salary, Height)</td>\n",
       "      <td>LANG</td>\n",
       "      <td>NaN</td>\n",
       "      <td>NaN</td>\n",
       "      <td>NaN</td>\n",
       "    </tr>\n",
       "  </tbody>\n",
       "</table>\n",
       "</div>"
      ],
      "text/plain": [
       "   Number                                           question Annotated Class  \\\n",
       "0       1  during what war did abraham lincoln serve as p...           Event   \n",
       "1       2  from which university did president obama rece...           Place   \n",
       "2       3                how long is queen victoria's reign?          Number   \n",
       "3       4        how many australian states and territories?          Number   \n",
       "4       5   how many languages are there in the philippines?          Number   \n",
       "\n",
       "                                   Manual Annotation  \\\n",
       "0  Event (Competition, LifeCycleEvent, NaturalEve...   \n",
       "1  Place (ArchitecturalStructure, CelestialBody, ...   \n",
       "2            Number (Integer, Float, Salary, Height)   \n",
       "3            Number (Integer, Float, Salary, Height)   \n",
       "4            Number (Integer, Float, Salary, Height)   \n",
       "\n",
       "                          class Manual Check Remarks  \\\n",
       "0                     DATE-TIME          NaN     NaN   \n",
       "1                           LOC          NaN     NaN   \n",
       "2  ['base.kwebbase.kwsentence']          NaN     NaN   \n",
       "3                           LOC          NaN     NaN   \n",
       "4                          LANG          NaN     NaN   \n",
       "\n",
       "   Number of empty annotations: 1  \n",
       "0                             NaN  \n",
       "1                             NaN  \n",
       "2                             NaN  \n",
       "3                             NaN  \n",
       "4                             NaN  "
      ]
     },
     "execution_count": 101,
     "metadata": {},
     "output_type": "execute_result"
    }
   ],
   "source": [
    "webq_train.head()"
   ]
  },
  {
   "cell_type": "code",
   "execution_count": 102,
   "metadata": {},
   "outputs": [],
   "source": [
    "i = 0\n",
    "names = ['Train', 'Test', 'Val', 'Devtest']\n",
    "\n",
    "for dataset in [webq_train, webq_test, webq_val, webq_devtest]:\n",
    "    #renaming primitive types\n",
    "    dataset.replace(['Text'], ['String'], inplace=True)\n",
    "    \n",
    "    dataset.rename(columns={'Number': 'question', 'question': 'questionText', 'Annotated Class': 'type'}, inplace=True)\n",
    "    #renaming dbpedia types\n",
    "    dataset.question = dataset.question.apply(lambda x: \"urn:WebQuestions{0}:id:{1}\".format(names[i], str(x).replace('.0','')))\n",
    "    dataset.drop(dataset.columns.difference(['question','questionText', 'type']), axis=1, inplace=True)\n",
    "    i = i + 1"
   ]
  },
  {
   "cell_type": "code",
   "execution_count": 103,
   "metadata": {},
   "outputs": [
    {
     "data": {
      "text/html": [
       "<div>\n",
       "<style scoped>\n",
       "    .dataframe tbody tr th:only-of-type {\n",
       "        vertical-align: middle;\n",
       "    }\n",
       "\n",
       "    .dataframe tbody tr th {\n",
       "        vertical-align: top;\n",
       "    }\n",
       "\n",
       "    .dataframe thead th {\n",
       "        text-align: right;\n",
       "    }\n",
       "</style>\n",
       "<table border=\"1\" class=\"dataframe\">\n",
       "  <thead>\n",
       "    <tr style=\"text-align: right;\">\n",
       "      <th></th>\n",
       "      <th>question</th>\n",
       "      <th>questionText</th>\n",
       "      <th>type</th>\n",
       "    </tr>\n",
       "  </thead>\n",
       "  <tbody>\n",
       "    <tr>\n",
       "      <th>0</th>\n",
       "      <td>urn:WebQuestionsTrain:id:1</td>\n",
       "      <td>during what war did abraham lincoln serve as p...</td>\n",
       "      <td>Event</td>\n",
       "    </tr>\n",
       "    <tr>\n",
       "      <th>1</th>\n",
       "      <td>urn:WebQuestionsTrain:id:2</td>\n",
       "      <td>from which university did president obama rece...</td>\n",
       "      <td>Place</td>\n",
       "    </tr>\n",
       "    <tr>\n",
       "      <th>2</th>\n",
       "      <td>urn:WebQuestionsTrain:id:3</td>\n",
       "      <td>how long is queen victoria's reign?</td>\n",
       "      <td>Number</td>\n",
       "    </tr>\n",
       "    <tr>\n",
       "      <th>3</th>\n",
       "      <td>urn:WebQuestionsTrain:id:4</td>\n",
       "      <td>how many australian states and territories?</td>\n",
       "      <td>Number</td>\n",
       "    </tr>\n",
       "    <tr>\n",
       "      <th>4</th>\n",
       "      <td>urn:WebQuestionsTrain:id:5</td>\n",
       "      <td>how many languages are there in the philippines?</td>\n",
       "      <td>Number</td>\n",
       "    </tr>\n",
       "  </tbody>\n",
       "</table>\n",
       "</div>"
      ],
      "text/plain": [
       "                     question  \\\n",
       "0  urn:WebQuestionsTrain:id:1   \n",
       "1  urn:WebQuestionsTrain:id:2   \n",
       "2  urn:WebQuestionsTrain:id:3   \n",
       "3  urn:WebQuestionsTrain:id:4   \n",
       "4  urn:WebQuestionsTrain:id:5   \n",
       "\n",
       "                                        questionText    type  \n",
       "0  during what war did abraham lincoln serve as p...   Event  \n",
       "1  from which university did president obama rece...   Place  \n",
       "2                how long is queen victoria's reign?  Number  \n",
       "3        how many australian states and territories?  Number  \n",
       "4   how many languages are there in the philippines?  Number  "
      ]
     },
     "execution_count": 103,
     "metadata": {},
     "output_type": "execute_result"
    }
   ],
   "source": [
    "webq_train.head()"
   ]
  },
  {
   "cell_type": "code",
   "execution_count": 104,
   "metadata": {},
   "outputs": [],
   "source": [
    "webq_train = webq_train.append(webq_devtest)\n",
    "webq_test = webq_test.append(webq_val)"
   ]
  },
  {
   "cell_type": "code",
   "execution_count": 105,
   "metadata": {},
   "outputs": [
    {
     "data": {
      "text/html": [
       "<div>\n",
       "<style scoped>\n",
       "    .dataframe tbody tr th:only-of-type {\n",
       "        vertical-align: middle;\n",
       "    }\n",
       "\n",
       "    .dataframe tbody tr th {\n",
       "        vertical-align: top;\n",
       "    }\n",
       "\n",
       "    .dataframe thead th {\n",
       "        text-align: right;\n",
       "    }\n",
       "</style>\n",
       "<table border=\"1\" class=\"dataframe\">\n",
       "  <thead>\n",
       "    <tr style=\"text-align: right;\">\n",
       "      <th></th>\n",
       "      <th>question</th>\n",
       "      <th>questionText</th>\n",
       "      <th>type</th>\n",
       "    </tr>\n",
       "  </thead>\n",
       "  <tbody>\n",
       "  </tbody>\n",
       "</table>\n",
       "</div>"
      ],
      "text/plain": [
       "Empty DataFrame\n",
       "Columns: [question, questionText, type]\n",
       "Index: []"
      ]
     },
     "execution_count": 105,
     "metadata": {},
     "output_type": "execute_result"
    }
   ],
   "source": [
    "webq_train[webq_train['type'].isna()]"
   ]
  },
  {
   "cell_type": "code",
   "execution_count": 106,
   "metadata": {},
   "outputs": [
    {
     "data": {
      "text/plain": [
       "False"
      ]
     },
     "execution_count": 106,
     "metadata": {},
     "output_type": "execute_result"
    }
   ],
   "source": [
    "any(webq_train.type.isna())"
   ]
  },
  {
   "cell_type": "code",
   "execution_count": 107,
   "metadata": {},
   "outputs": [],
   "source": [
    "#saving final dataset to the files\n",
    "webq_train.to_csv(\"../../data/WebQuestions/prep_dbpedia/WebQuestions-train.csv\", index=False, sep=';')\n",
    "webq_test.to_csv(\"../../data/WebQuestions/prep_dbpedia/WebQuestions-test.csv\", index=False, sep=';')"
   ]
  },
  {
   "cell_type": "code",
   "execution_count": 108,
   "metadata": {},
   "outputs": [
    {
     "data": {
      "text/plain": [
       "(2966, 3)"
      ]
     },
     "execution_count": 108,
     "metadata": {},
     "output_type": "execute_result"
    }
   ],
   "source": [
    "webq_train.shape"
   ]
  },
  {
   "cell_type": "code",
   "execution_count": 109,
   "metadata": {},
   "outputs": [
    {
     "data": {
      "text/plain": [
       "(2752, 3)"
      ]
     },
     "execution_count": 109,
     "metadata": {},
     "output_type": "execute_result"
    }
   ],
   "source": [
    "webq_test.shape"
   ]
  },
  {
   "cell_type": "markdown",
   "metadata": {},
   "source": [
    "## CogComp"
   ]
  },
  {
   "cell_type": "code",
   "execution_count": 112,
   "metadata": {},
   "outputs": [],
   "source": [
    "cogcomp = pd.read_csv(\"../../data/CogComp/train_5500_prep.label\",sep=\"=\")\n",
    "cogcomp.rename(columns={'question': 'questionText', 'subclass': 'type'}, inplace=True)"
   ]
  },
  {
   "cell_type": "code",
   "execution_count": 113,
   "metadata": {},
   "outputs": [
    {
     "data": {
      "text/html": [
       "<div>\n",
       "<style scoped>\n",
       "    .dataframe tbody tr th:only-of-type {\n",
       "        vertical-align: middle;\n",
       "    }\n",
       "\n",
       "    .dataframe tbody tr th {\n",
       "        vertical-align: top;\n",
       "    }\n",
       "\n",
       "    .dataframe thead th {\n",
       "        text-align: right;\n",
       "    }\n",
       "</style>\n",
       "<table border=\"1\" class=\"dataframe\">\n",
       "  <thead>\n",
       "    <tr style=\"text-align: right;\">\n",
       "      <th></th>\n",
       "      <th>class</th>\n",
       "      <th>type</th>\n",
       "      <th>questionText</th>\n",
       "    </tr>\n",
       "  </thead>\n",
       "  <tbody>\n",
       "    <tr>\n",
       "      <th>0</th>\n",
       "      <td>DESC</td>\n",
       "      <td>manner</td>\n",
       "      <td>How did serfdom develop in and then leave Russ...</td>\n",
       "    </tr>\n",
       "    <tr>\n",
       "      <th>1</th>\n",
       "      <td>ENTY</td>\n",
       "      <td>cremat</td>\n",
       "      <td>What films featured the character Popeye Doyle ?</td>\n",
       "    </tr>\n",
       "    <tr>\n",
       "      <th>2</th>\n",
       "      <td>DESC</td>\n",
       "      <td>manner</td>\n",
       "      <td>How can I find a list of celebrities ' real na...</td>\n",
       "    </tr>\n",
       "    <tr>\n",
       "      <th>3</th>\n",
       "      <td>ENTY</td>\n",
       "      <td>animal</td>\n",
       "      <td>What fowl grabs the spotlight after the Chines...</td>\n",
       "    </tr>\n",
       "    <tr>\n",
       "      <th>4</th>\n",
       "      <td>ABBR</td>\n",
       "      <td>exp</td>\n",
       "      <td>What is the full form of .com ?</td>\n",
       "    </tr>\n",
       "  </tbody>\n",
       "</table>\n",
       "</div>"
      ],
      "text/plain": [
       "  class    type                                       questionText\n",
       "0  DESC  manner  How did serfdom develop in and then leave Russ...\n",
       "1  ENTY  cremat   What films featured the character Popeye Doyle ?\n",
       "2  DESC  manner  How can I find a list of celebrities ' real na...\n",
       "3  ENTY  animal  What fowl grabs the spotlight after the Chines...\n",
       "4  ABBR     exp                    What is the full form of .com ?"
      ]
     },
     "execution_count": 113,
     "metadata": {},
     "output_type": "execute_result"
    }
   ],
   "source": [
    "cogcomp.head()"
   ]
  },
  {
   "cell_type": "code",
   "execution_count": 114,
   "metadata": {},
   "outputs": [],
   "source": [
    "cogcomp_classes = pd.read_csv(\"../../data/CogComp/CogCompTypes.csv\")"
   ]
  },
  {
   "cell_type": "code",
   "execution_count": 115,
   "metadata": {},
   "outputs": [],
   "source": [
    "class_map = dict()\n",
    "for i,row in cogcomp_classes.iterrows():\n",
    "    class_map[row['CogComp Class']] = row['Class']"
   ]
  },
  {
   "cell_type": "code",
   "execution_count": 116,
   "metadata": {},
   "outputs": [],
   "source": [
    "cogcomp.type = cogcomp.type.apply(lambda x: class_map[x])"
   ]
  },
  {
   "cell_type": "code",
   "execution_count": 117,
   "metadata": {},
   "outputs": [
    {
     "data": {
      "text/html": [
       "<div>\n",
       "<style scoped>\n",
       "    .dataframe tbody tr th:only-of-type {\n",
       "        vertical-align: middle;\n",
       "    }\n",
       "\n",
       "    .dataframe tbody tr th {\n",
       "        vertical-align: top;\n",
       "    }\n",
       "\n",
       "    .dataframe thead th {\n",
       "        text-align: right;\n",
       "    }\n",
       "</style>\n",
       "<table border=\"1\" class=\"dataframe\">\n",
       "  <thead>\n",
       "    <tr style=\"text-align: right;\">\n",
       "      <th></th>\n",
       "      <th>class</th>\n",
       "      <th>type</th>\n",
       "      <th>questionText</th>\n",
       "    </tr>\n",
       "  </thead>\n",
       "  <tbody>\n",
       "    <tr>\n",
       "      <th>1</th>\n",
       "      <td>ENTY</td>\n",
       "      <td>Work</td>\n",
       "      <td>What films featured the character Popeye Doyle ?</td>\n",
       "    </tr>\n",
       "    <tr>\n",
       "      <th>3</th>\n",
       "      <td>ENTY</td>\n",
       "      <td>Species</td>\n",
       "      <td>What fowl grabs the spotlight after the Chines...</td>\n",
       "    </tr>\n",
       "    <tr>\n",
       "      <th>4</th>\n",
       "      <td>ABBR</td>\n",
       "      <td>Text</td>\n",
       "      <td>What is the full form of .com ?</td>\n",
       "    </tr>\n",
       "    <tr>\n",
       "      <th>5</th>\n",
       "      <td>HUM</td>\n",
       "      <td>Agent</td>\n",
       "      <td>What contemptible scoundrel stole the cork fro...</td>\n",
       "    </tr>\n",
       "    <tr>\n",
       "      <th>6</th>\n",
       "      <td>HUM</td>\n",
       "      <td>Agent</td>\n",
       "      <td>What team did baseball 's St. Louis Browns bec...</td>\n",
       "    </tr>\n",
       "  </tbody>\n",
       "</table>\n",
       "</div>"
      ],
      "text/plain": [
       "  class     type                                       questionText\n",
       "1  ENTY     Work   What films featured the character Popeye Doyle ?\n",
       "3  ENTY  Species  What fowl grabs the spotlight after the Chines...\n",
       "4  ABBR     Text                    What is the full form of .com ?\n",
       "5   HUM    Agent  What contemptible scoundrel stole the cork fro...\n",
       "6   HUM    Agent  What team did baseball 's St. Louis Browns bec..."
      ]
     },
     "execution_count": 117,
     "metadata": {},
     "output_type": "execute_result"
    }
   ],
   "source": [
    "cogcomp = cogcomp[cogcomp['type'] != 'REMOVE']\n",
    "cogcomp = cogcomp[cogcomp['type'] != 'Boolean']\n",
    "cogcomp.head()"
   ]
  },
  {
   "cell_type": "code",
   "execution_count": 118,
   "metadata": {},
   "outputs": [],
   "source": [
    "cogcomp['question'] = [\"urn:CogComp:id:{0}\".format(i) for i in range(cogcomp.shape[0])]\n",
    "cogcomp.drop('class', axis=1, inplace=True)"
   ]
  },
  {
   "cell_type": "code",
   "execution_count": 119,
   "metadata": {},
   "outputs": [
    {
     "data": {
      "text/html": [
       "<div>\n",
       "<style scoped>\n",
       "    .dataframe tbody tr th:only-of-type {\n",
       "        vertical-align: middle;\n",
       "    }\n",
       "\n",
       "    .dataframe tbody tr th {\n",
       "        vertical-align: top;\n",
       "    }\n",
       "\n",
       "    .dataframe thead th {\n",
       "        text-align: right;\n",
       "    }\n",
       "</style>\n",
       "<table border=\"1\" class=\"dataframe\">\n",
       "  <thead>\n",
       "    <tr style=\"text-align: right;\">\n",
       "      <th></th>\n",
       "      <th>type</th>\n",
       "      <th>questionText</th>\n",
       "      <th>question</th>\n",
       "    </tr>\n",
       "  </thead>\n",
       "  <tbody>\n",
       "    <tr>\n",
       "      <th>1</th>\n",
       "      <td>Work</td>\n",
       "      <td>What films featured the character Popeye Doyle ?</td>\n",
       "      <td>urn:CogComp:id:0</td>\n",
       "    </tr>\n",
       "    <tr>\n",
       "      <th>3</th>\n",
       "      <td>Species</td>\n",
       "      <td>What fowl grabs the spotlight after the Chines...</td>\n",
       "      <td>urn:CogComp:id:1</td>\n",
       "    </tr>\n",
       "    <tr>\n",
       "      <th>4</th>\n",
       "      <td>Text</td>\n",
       "      <td>What is the full form of .com ?</td>\n",
       "      <td>urn:CogComp:id:2</td>\n",
       "    </tr>\n",
       "    <tr>\n",
       "      <th>5</th>\n",
       "      <td>Agent</td>\n",
       "      <td>What contemptible scoundrel stole the cork fro...</td>\n",
       "      <td>urn:CogComp:id:3</td>\n",
       "    </tr>\n",
       "    <tr>\n",
       "      <th>6</th>\n",
       "      <td>Agent</td>\n",
       "      <td>What team did baseball 's St. Louis Browns bec...</td>\n",
       "      <td>urn:CogComp:id:4</td>\n",
       "    </tr>\n",
       "  </tbody>\n",
       "</table>\n",
       "</div>"
      ],
      "text/plain": [
       "      type                                       questionText  \\\n",
       "1     Work   What films featured the character Popeye Doyle ?   \n",
       "3  Species  What fowl grabs the spotlight after the Chines...   \n",
       "4     Text                    What is the full form of .com ?   \n",
       "5    Agent  What contemptible scoundrel stole the cork fro...   \n",
       "6    Agent  What team did baseball 's St. Louis Browns bec...   \n",
       "\n",
       "           question  \n",
       "1  urn:CogComp:id:0  \n",
       "3  urn:CogComp:id:1  \n",
       "4  urn:CogComp:id:2  \n",
       "5  urn:CogComp:id:3  \n",
       "6  urn:CogComp:id:4  "
      ]
     },
     "execution_count": 119,
     "metadata": {},
     "output_type": "execute_result"
    }
   ],
   "source": [
    "cogcomp.head()"
   ]
  },
  {
   "cell_type": "code",
   "execution_count": 120,
   "metadata": {},
   "outputs": [
    {
     "data": {
      "text/plain": [
       "Number                  1359\n",
       "Agent                   1151\n",
       "Text                     898\n",
       "Place                    371\n",
       "DateTime                 218\n",
       "Work                     207\n",
       "TopicalConcept           131\n",
       "Species                  125\n",
       "Food                     103\n",
       "Disease                  103\n",
       "Activity                  62\n",
       "Event                     56\n",
       "ChemicalSubstance         41\n",
       "Colour                    40\n",
       "MeanOfTransportation      27\n",
       "Language                  16\n",
       "AnatomicalStructure       16\n",
       "Device                    10\n",
       "Currency                   4\n",
       "Name: type, dtype: int64"
      ]
     },
     "execution_count": 120,
     "metadata": {},
     "output_type": "execute_result"
    }
   ],
   "source": [
    "cogcomp.type.value_counts()"
   ]
  },
  {
   "cell_type": "code",
   "execution_count": 121,
   "metadata": {},
   "outputs": [],
   "source": [
    "from sklearn.model_selection import train_test_split\n",
    "\n",
    "train, test = train_test_split(cogcomp, shuffle=True, random_state=42,)"
   ]
  },
  {
   "cell_type": "code",
   "execution_count": 122,
   "metadata": {},
   "outputs": [],
   "source": [
    "train.to_csv(\"../../data/CogComp/pred_dbpedia/CogComp-train.csv\", index=False, sep=';')\n",
    "test.to_csv(\"../../data/CogComp/pred_dbpedia/CogComp-test.csv\", index=False, sep=';')"
   ]
  },
  {
   "cell_type": "code",
   "execution_count": 4,
   "metadata": {},
   "outputs": [],
   "source": [
    "train = pd.read_csv(\"../../data/CogComp/pred_dbpedia/CogComp-train.csv\", sep=';')\n",
    "test = pd.read_csv(\"../../data/CogComp/pred_dbpedia/CogComp-test.csv\", sep=';')"
   ]
  },
  {
   "cell_type": "code",
   "execution_count": 5,
   "metadata": {},
   "outputs": [],
   "source": [
    "for dataset in [train, test]:\n",
    "    #renaming primitive types\n",
    "    dataset.replace(['Text'], ['String'], inplace=True)"
   ]
  },
  {
   "cell_type": "code",
   "execution_count": 7,
   "metadata": {},
   "outputs": [],
   "source": [
    "train.to_csv(\"../../data/CogComp/pred_dbpedia/CogComp-train.csv\", index=False, sep=';')\n",
    "test.to_csv(\"../../data/CogComp/pred_dbpedia/CogComp-test.csv\", index=False, sep=';')"
   ]
  },
  {
   "cell_type": "markdown",
   "metadata": {},
   "source": [
    "## SimpleQuestions"
   ]
  },
  {
   "cell_type": "code",
   "execution_count": 124,
   "metadata": {},
   "outputs": [
    {
     "name": "stdout",
     "output_type": "stream",
     "text": [
      "(41346, 3) (11950, 3) (5842, 3)\n"
     ]
    }
   ],
   "source": [
    "sq_train = pd.read_csv(\"../../data/SimpleQuestions/RDF/SimpleQuestions-train.csv\")\n",
    "sq_test = pd.read_csv(\"../../data/SimpleQuestions/RDF/SimpleQuestions-test.csv\")\n",
    "sq_val = pd.read_csv(\"../../data/SimpleQuestions/RDF/SimpleQuestions-val.csv\")\n",
    "print(sq_train.shape, sq_test.shape, sq_val.shape)"
   ]
  },
  {
   "cell_type": "code",
   "execution_count": 125,
   "metadata": {},
   "outputs": [
    {
     "data": {
      "text/html": [
       "<div>\n",
       "<style scoped>\n",
       "    .dataframe tbody tr th:only-of-type {\n",
       "        vertical-align: middle;\n",
       "    }\n",
       "\n",
       "    .dataframe tbody tr th {\n",
       "        vertical-align: top;\n",
       "    }\n",
       "\n",
       "    .dataframe thead th {\n",
       "        text-align: right;\n",
       "    }\n",
       "</style>\n",
       "<table border=\"1\" class=\"dataframe\">\n",
       "  <thead>\n",
       "    <tr style=\"text-align: right;\">\n",
       "      <th></th>\n",
       "      <th>question</th>\n",
       "      <th>questionText</th>\n",
       "      <th>type</th>\n",
       "    </tr>\n",
       "  </thead>\n",
       "  <tbody>\n",
       "    <tr>\n",
       "      <th>0</th>\n",
       "      <td>urn:SimpleQuestions:number:78</td>\n",
       "      <td>What sport does notre dame fighting irish men'...</td>\n",
       "      <td>http://dbpedia.org/ontology/Activity</td>\n",
       "    </tr>\n",
       "    <tr>\n",
       "      <th>1</th>\n",
       "      <td>urn:SimpleQuestions:number:401</td>\n",
       "      <td>What sport is crici��ma esporte clube a part of?</td>\n",
       "      <td>http://dbpedia.org/ontology/Activity</td>\n",
       "    </tr>\n",
       "    <tr>\n",
       "      <th>2</th>\n",
       "      <td>urn:SimpleQuestions:number:1084</td>\n",
       "      <td>What sport did ron blaylock play</td>\n",
       "      <td>http://dbpedia.org/ontology/Activity</td>\n",
       "    </tr>\n",
       "    <tr>\n",
       "      <th>3</th>\n",
       "      <td>urn:SimpleQuestions:number:1172</td>\n",
       "      <td>which game was published by hans im gl��ck</td>\n",
       "      <td>http://dbpedia.org/ontology/Activity</td>\n",
       "    </tr>\n",
       "    <tr>\n",
       "      <th>4</th>\n",
       "      <td>urn:SimpleQuestions:number:1891</td>\n",
       "      <td>what sport does michigan state spartans footba...</td>\n",
       "      <td>http://dbpedia.org/ontology/Activity</td>\n",
       "    </tr>\n",
       "  </tbody>\n",
       "</table>\n",
       "</div>"
      ],
      "text/plain": [
       "                          question  \\\n",
       "0    urn:SimpleQuestions:number:78   \n",
       "1   urn:SimpleQuestions:number:401   \n",
       "2  urn:SimpleQuestions:number:1084   \n",
       "3  urn:SimpleQuestions:number:1172   \n",
       "4  urn:SimpleQuestions:number:1891   \n",
       "\n",
       "                                        questionText  \\\n",
       "0  What sport does notre dame fighting irish men'...   \n",
       "1   What sport is crici��ma esporte clube a part of?   \n",
       "2                   What sport did ron blaylock play   \n",
       "3         which game was published by hans im gl��ck   \n",
       "4  what sport does michigan state spartans footba...   \n",
       "\n",
       "                                   type  \n",
       "0  http://dbpedia.org/ontology/Activity  \n",
       "1  http://dbpedia.org/ontology/Activity  \n",
       "2  http://dbpedia.org/ontology/Activity  \n",
       "3  http://dbpedia.org/ontology/Activity  \n",
       "4  http://dbpedia.org/ontology/Activity  "
      ]
     },
     "execution_count": 125,
     "metadata": {},
     "output_type": "execute_result"
    }
   ],
   "source": [
    "sq_train.head()"
   ]
  },
  {
   "cell_type": "code",
   "execution_count": 126,
   "metadata": {},
   "outputs": [],
   "source": [
    "for dataset in [sq_train, sq_test, sq_val]:    \n",
    "    #renaming dbpedia types\n",
    "    dataset.type = dataset.type.apply(lambda x: str(x.replace(\"http://dbpedia.org/ontology/\",\"\")))"
   ]
  },
  {
   "cell_type": "code",
   "execution_count": 127,
   "metadata": {},
   "outputs": [
    {
     "data": {
      "text/plain": [
       "Place                   14482\n",
       "Agent                   12161\n",
       "Work                     6192\n",
       "TopicalConcept           2899\n",
       "Language                 2262\n",
       "Disease                   636\n",
       "EthnicGroup               507\n",
       "Event                     503\n",
       "ChemicalSubstance         424\n",
       "Colour                    343\n",
       "MeanOfTransportation      335\n",
       "Species                   197\n",
       "Device                    140\n",
       "Activity                  122\n",
       "Food                       88\n",
       "AnatomicalStructure        21\n",
       "Award                      16\n",
       "Holiday                    13\n",
       "Currency                    4\n",
       "Biomolecule                 1\n",
       "Name: type, dtype: int64"
      ]
     },
     "execution_count": 127,
     "metadata": {},
     "output_type": "execute_result"
    }
   ],
   "source": [
    "sq_train.type.value_counts()"
   ]
  },
  {
   "cell_type": "code",
   "execution_count": 128,
   "metadata": {},
   "outputs": [],
   "source": [
    "#saving final dataset to the files\n",
    "sq_train.to_csv(\"../../data/SimpleQuestions/prep_dbpedia/SimpleQuestions-train.csv\", index=False, sep=';')\n",
    "sq_test.append(sq_val).to_csv(\"../../data/SimpleQuestions/prep_dbpedia/SimpleQuestions-test.csv\", index=False, sep=';')"
   ]
  },
  {
   "cell_type": "markdown",
   "metadata": {},
   "source": [
    "## Combinations"
   ]
  },
  {
   "cell_type": "code",
   "execution_count": 11,
   "metadata": {},
   "outputs": [],
   "source": [
    "import itertools\n",
    "\n",
    "datasets = ['LC-QuAD', 'QALD', 'CogComp', 'WebQuestions', 'SimpleQuestions']"
   ]
  },
  {
   "cell_type": "code",
   "execution_count": 12,
   "metadata": {},
   "outputs": [],
   "source": [
    "combs = list()\n",
    "for i in range(2,6):\n",
    "    combs.append(list(itertools.combinations(datasets, i)))"
   ]
  },
  {
   "cell_type": "code",
   "execution_count": 13,
   "metadata": {},
   "outputs": [
    {
     "name": "stderr",
     "output_type": "stream",
     "text": [
      "/home/docker/.local/lib/python3.7/site-packages/pandas/core/frame.py:7138: FutureWarning: Sorting because non-concatenation axis is not aligned. A future version\n",
      "of pandas will change to not sort by default.\n",
      "\n",
      "To accept the future behavior, pass 'sort=False'.\n",
      "\n",
      "To retain the current behavior and silence the warning, pass 'sort=True'.\n",
      "\n",
      "  sort=sort,\n"
     ]
    }
   ],
   "source": [
    "for comb in combs:\n",
    "    for ds in comb:\n",
    "        datasets = list()\n",
    "        ds_name = str()\n",
    "        \n",
    "        for name in ds:\n",
    "            datasets.append(pd.read_csv(\"../../data/UnifiedSubclassDBpedia/{0}-train.csv\".format(name), sep=';'))\n",
    "            \n",
    "            if ds_name == \"\":\n",
    "                ds_name=name\n",
    "            else:\n",
    "                ds_name+='+'+name\n",
    "        \n",
    "        dataset = datasets[0]\n",
    "        for _ in datasets[1:]:\n",
    "            dataset = dataset.append(_)\n",
    "        \n",
    "        dataset.to_csv(\"../../data/UnifiedSubclassDBpedia/{0}-train.csv\".format(ds_name), index=False, sep=';')"
   ]
  },
  {
   "cell_type": "code",
   "execution_count": 14,
   "metadata": {},
   "outputs": [
    {
     "data": {
      "text/plain": [
       "[('LC-QuAD', 'QALD'),\n",
       " ('LC-QuAD', 'CogComp'),\n",
       " ('LC-QuAD', 'WebQuestions'),\n",
       " ('LC-QuAD', 'SimpleQuestions'),\n",
       " ('QALD', 'CogComp'),\n",
       " ('QALD', 'WebQuestions'),\n",
       " ('QALD', 'SimpleQuestions'),\n",
       " ('CogComp', 'WebQuestions'),\n",
       " ('CogComp', 'SimpleQuestions'),\n",
       " ('WebQuestions', 'SimpleQuestions')]"
      ]
     },
     "execution_count": 14,
     "metadata": {},
     "output_type": "execute_result"
    }
   ],
   "source": [
    "combs[0]"
   ]
  },
  {
   "cell_type": "code",
   "execution_count": 15,
   "metadata": {},
   "outputs": [],
   "source": [
    "names = list()\n",
    "\n",
    "for comb in combs:\n",
    "    for ds in comb:\n",
    "        ds_name = str()\n",
    "        \n",
    "        for name in ds:\n",
    "            if ds_name == \"\":\n",
    "                ds_name=name\n",
    "            else:\n",
    "                ds_name+='+'+name\n",
    "                \n",
    "        names.append(ds_name)"
   ]
  },
  {
   "cell_type": "code",
   "execution_count": 16,
   "metadata": {},
   "outputs": [
    {
     "data": {
      "text/plain": [
       "['LC-QuAD+QALD',\n",
       " 'LC-QuAD+CogComp',\n",
       " 'LC-QuAD+WebQuestions',\n",
       " 'LC-QuAD+SimpleQuestions',\n",
       " 'QALD+CogComp',\n",
       " 'QALD+WebQuestions',\n",
       " 'QALD+SimpleQuestions',\n",
       " 'CogComp+WebQuestions',\n",
       " 'CogComp+SimpleQuestions',\n",
       " 'WebQuestions+SimpleQuestions',\n",
       " 'LC-QuAD+QALD+CogComp',\n",
       " 'LC-QuAD+QALD+WebQuestions',\n",
       " 'LC-QuAD+QALD+SimpleQuestions',\n",
       " 'LC-QuAD+CogComp+WebQuestions',\n",
       " 'LC-QuAD+CogComp+SimpleQuestions',\n",
       " 'LC-QuAD+WebQuestions+SimpleQuestions',\n",
       " 'QALD+CogComp+WebQuestions',\n",
       " 'QALD+CogComp+SimpleQuestions',\n",
       " 'QALD+WebQuestions+SimpleQuestions',\n",
       " 'CogComp+WebQuestions+SimpleQuestions',\n",
       " 'LC-QuAD+QALD+CogComp+WebQuestions',\n",
       " 'LC-QuAD+QALD+CogComp+SimpleQuestions',\n",
       " 'LC-QuAD+QALD+WebQuestions+SimpleQuestions',\n",
       " 'LC-QuAD+CogComp+WebQuestions+SimpleQuestions',\n",
       " 'QALD+CogComp+WebQuestions+SimpleQuestions',\n",
       " 'LC-QuAD+QALD+CogComp+WebQuestions+SimpleQuestions']"
      ]
     },
     "execution_count": 16,
     "metadata": {},
     "output_type": "execute_result"
    }
   ],
   "source": [
    "names"
   ]
  },
  {
   "cell_type": "code",
   "execution_count": 17,
   "metadata": {},
   "outputs": [
    {
     "data": {
      "text/plain": [
       "26"
      ]
     },
     "execution_count": 17,
     "metadata": {},
     "output_type": "execute_result"
    }
   ],
   "source": [
    "len(names)"
   ]
  },
  {
   "cell_type": "code",
   "execution_count": null,
   "metadata": {},
   "outputs": [],
   "source": []
  }
 ],
 "metadata": {
  "kernelspec": {
   "display_name": "Python 3",
   "language": "python",
   "name": "python3"
  },
  "language_info": {
   "codemirror_mode": {
    "name": "ipython",
    "version": 3
   },
   "file_extension": ".py",
   "mimetype": "text/x-python",
   "name": "python",
   "nbconvert_exporter": "python",
   "pygments_lexer": "ipython3",
   "version": "3.6.10"
  }
 },
 "nbformat": 4,
 "nbformat_minor": 2
}
