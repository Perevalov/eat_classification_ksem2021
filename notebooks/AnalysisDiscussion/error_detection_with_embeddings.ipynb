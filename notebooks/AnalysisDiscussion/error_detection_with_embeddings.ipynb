{
 "cells": [
  {
   "cell_type": "code",
   "execution_count": 1,
   "metadata": {},
   "outputs": [],
   "source": [
    "import os\n",
    "os.environ[\"CUDA_VISIBLE_DEVICES\"]=\"0,1\"  # specify which GPU(s) to be used\n",
    "\n",
    "import warnings\n",
    "warnings.filterwarnings('ignore')\n",
    "\n",
    "import ipywidgets as widgets\n",
    "import numpy as np\n",
    "from sklearn.preprocessing import LabelEncoder\n",
    "from keras.utils import np_utils\n",
    "import time\n",
    "import gc\n",
    "from scipy.spatial.distance import cosine\n",
    "import json\n",
    "import pandas as pd\n",
    "import tensorflow as tf\n",
    "from tensorflow.keras.layers import Dense, Input\n",
    "from tensorflow.keras.optimizers import Adam\n",
    "from tensorflow.keras.models import Model\n",
    "from tensorflow.keras.callbacks import ModelCheckpoint\n",
    "import transformers\n",
    "from transformers import TFAutoModel, AutoTokenizer\n",
    "from tqdm.notebook import tqdm\n",
    "from sklearn.model_selection import train_test_split\n",
    "\n",
    "from sklearn.metrics import precision_score, recall_score, accuracy_score, f1_score\n",
    "from sklearn.metrics import confusion_matrix\n",
    "from tensorflow.keras.callbacks import Callback \n",
    "from tokenizers import Tokenizer, models, pre_tokenizers, decoders, processors\n",
    "\n",
    "tf.get_logger().setLevel('ERROR')"
   ]
  },
  {
   "cell_type": "code",
   "execution_count": 2,
   "metadata": {},
   "outputs": [
    {
     "data": {
      "text/plain": [
       "('2.3.0', '4.3.3')"
      ]
     },
     "execution_count": 2,
     "metadata": {},
     "output_type": "execute_result"
    }
   ],
   "source": [
    "tf.__version__, transformers.__version__"
   ]
  },
  {
   "cell_type": "code",
   "execution_count": 6,
   "metadata": {},
   "outputs": [],
   "source": [
    "MIN_CLASS_SIZE = -1\n",
    "DATA_LIST = ['LC-QuAD', 'QALD', 'CogComp', 'WebQuestions', 'SimpleQuestions']\n",
    "CLASS_NAMES = [\n",
    "    'List',\n",
    "    'Award',\n",
    "    'Disease',\n",
    "    'Boolean',\n",
    "    'EthnicGroup',\n",
    "    'Event',\n",
    "    'Work',\n",
    "    'TimePeriod',\n",
    "    'DateTime',\n",
    "    'Flag',\n",
    "    'Holiday',\n",
    "    'ChemicalSubstance',\n",
    "    'Currency',\n",
    "    'PersonFunction',\n",
    "    'SportsSeason',\n",
    "    'Activity',\n",
    "    'Medicine',\n",
    "    'Species',\n",
    "    'Altitude',\n",
    "    'Colour',\n",
    "    'Device',\n",
    "    'Language',\n",
    "    'Number',\n",
    "    'MeanOfTransportation',\n",
    "    'Food',\n",
    "    'TopicalConcept',\n",
    "    'AnatomicalStructure',\n",
    "    'Agent',\n",
    "    'Place',\n",
    "    'String'\n",
    "]\n",
    "\n",
    "TRAIN_LIST = ['LC-QuAD',\n",
    "                'QALD',\n",
    "                'CogComp',\n",
    "                'WebQuestions',\n",
    "                'SimpleQuestions',\n",
    "                'LC-QuAD+QALD',\n",
    "                'LC-QuAD+CogComp',\n",
    "                'LC-QuAD+WebQuestions',\n",
    "                'LC-QuAD+SimpleQuestions',\n",
    "                'QALD+CogComp',\n",
    "                'QALD+WebQuestions',\n",
    "                'QALD+SimpleQuestions',\n",
    "                'CogComp+WebQuestions',\n",
    "                'CogComp+SimpleQuestions',\n",
    "                'WebQuestions+SimpleQuestions',\n",
    "                'LC-QuAD+QALD+CogComp',\n",
    "                'LC-QuAD+QALD+WebQuestions',\n",
    "                'LC-QuAD+QALD+SimpleQuestions',\n",
    "                'LC-QuAD+CogComp+WebQuestions',\n",
    "                'LC-QuAD+CogComp+SimpleQuestions',\n",
    "                'LC-QuAD+WebQuestions+SimpleQuestions',\n",
    "                'QALD+CogComp+WebQuestions',\n",
    "                'QALD+CogComp+SimpleQuestions',\n",
    "                'QALD+WebQuestions+SimpleQuestions',\n",
    "                'CogComp+WebQuestions+SimpleQuestions',\n",
    "                'LC-QuAD+QALD+CogComp+WebQuestions',\n",
    "                'LC-QuAD+QALD+CogComp+SimpleQuestions',\n",
    "                'LC-QuAD+QALD+WebQuestions+SimpleQuestions',\n",
    "                'LC-QuAD+CogComp+WebQuestions+SimpleQuestions',\n",
    "                'QALD+CogComp+WebQuestions+SimpleQuestions',\n",
    "                'LC-QuAD+QALD+CogComp+WebQuestions+SimpleQuestions']\n",
    "\n",
    "TEST_LIST = ['LC-QuAD', 'QALD', 'CogComp', 'WebQuestions', 'SimpleQuestions']\n",
    "\n",
    "tokenizer = AutoTokenizer.from_pretrained('distilbert-base-uncased')"
   ]
  },
  {
   "cell_type": "code",
   "execution_count": 59,
   "metadata": {},
   "outputs": [],
   "source": [
    "def regular_encode(texts, tokenizer, maxlen=512):\n",
    "    enc_di = tokenizer.batch_encode_plus(\n",
    "        texts,\n",
    "        return_token_type_ids=False,\n",
    "        pad_to_max_length=True,\n",
    "        max_length=maxlen\n",
    "    )\n",
    "    \n",
    "    return np.array(enc_di['input_ids'])"
   ]
  },
  {
   "cell_type": "code",
   "execution_count": 12,
   "metadata": {},
   "outputs": [],
   "source": [
    "model = tf.keras.models.load_model(\"../../../bin_eat/classifier\")\n",
    "\n",
    "encoder = LabelEncoder()\n",
    "encoder.classes_ = np.load('../../../bin_eat/encoder.npy', allow_pickle=True)"
   ]
  },
  {
   "cell_type": "code",
   "execution_count": 13,
   "metadata": {},
   "outputs": [
    {
     "name": "stdout",
     "output_type": "stream",
     "text": [
      "Model: \"functional_1\"\n",
      "_________________________________________________________________\n",
      "Layer (type)                 Output Shape              Param #   \n",
      "=================================================================\n",
      "input_word_ids (InputLayer)  [(None, 128)]             0         \n",
      "_________________________________________________________________\n",
      "distilbert (TFDistilBertMain TFBaseModelOutput(last_hi 66362880  \n",
      "_________________________________________________________________\n",
      "tf_op_layer_strided_slice (T (None, 768)               0         \n",
      "_________________________________________________________________\n",
      "dense (Dense)                (None, 32)                24608     \n",
      "=================================================================\n",
      "Total params: 66,387,488\n",
      "Trainable params: 66,387,488\n",
      "Non-trainable params: 0\n",
      "_________________________________________________________________\n"
     ]
    }
   ],
   "source": [
    "model.summary()"
   ]
  },
  {
   "cell_type": "code",
   "execution_count": 14,
   "metadata": {},
   "outputs": [],
   "source": [
    "embedding_model = Model(inputs=[model.get_layer(\"input_word_ids\").input], \n",
    "                outputs=[model.get_layer(\"tf_op_layer_strided_slice\").output])"
   ]
  },
  {
   "cell_type": "code",
   "execution_count": 79,
   "metadata": {},
   "outputs": [
    {
     "name": "stdout",
     "output_type": "stream",
     "text": [
      "LC-QuAD\n",
      "QALD\n",
      "CogComp\n",
      "WebQuestions\n",
      "SimpleQuestions\n"
     ]
    }
   ],
   "source": [
    "error_dict = {key: None for key in DATA_LIST}\n",
    "\n",
    "for data in DATA_LIST:\n",
    "    print(data)\n",
    "    \n",
    "    df = pd.read_csv(f\"../../data/UnifiedSubclassDBpedia/{data}-train.csv\", sep=';')\n",
    "    \n",
    "    questions = regular_encode(list(df.questionText.astype(str).values), tokenizer, maxlen=128)\n",
    "    dataset = (\n",
    "        tf.data.Dataset\n",
    "        .from_tensor_slices(questions)\n",
    "        .batch(16)\n",
    "    )\n",
    "    result = embedding_model.predict(dataset)\n",
    "    \n",
    "    # calculate cluster centers\n",
    "    cluster_centers = {key: None for key in df.type.unique()}\n",
    "\n",
    "    for label in df.type.unique():\n",
    "        tmp = np.append(result, np.array([[i] for i in df.type.values]), axis=1)\n",
    "        tmp = tmp[np.where(tmp[:,768] == label)[0],:768]\n",
    "        cluster_centers[label] = np.mean(tmp.astype(float), axis=0)\n",
    "        \n",
    "    # calculate cluster diameters 95th percentile\n",
    "    \"\"\"cluster_diameters = {key: None for key in df.type.unique()}\n",
    "    cluster_diameters_95th = {key: None for key in df.type.unique()}\n",
    "    \n",
    "    # iterate over labels and find data points with wrong cluster center\n",
    "    for label in df.type.unique():\n",
    "        tmp = np.append(result, np.array([[i] for i in df.type.values]), axis=1)\n",
    "        tmp = tmp[np.where(tmp[:,768] == label)[0],:768] # get only class vectors\n",
    "        diameters = list()\n",
    "        for vector in tmp: # calculate distances between all vectors\n",
    "            diameters.append(cosine(cluster_centers[label], vector.astype(float)))\n",
    "        cluster_diameters[label] = max(diameters)\n",
    "        cluster_diameters_95th[label] = np.percentile(diameters, 25)\n",
    "        \n",
    "    assert cluster_diameters['Agent'] > cluster_diameters_95th['Agent']\"\"\"\n",
    "    \n",
    "    # iterate over dataset and find data points with wrong cluster center\n",
    "    error_stats = {key: None for key in df.type.unique()}\n",
    "    for label in df.type.unique():\n",
    "        tmp = np.append(result, np.array([[i] for i in df.type.values]), axis=1) \n",
    "        tmp = np.append(tmp, np.array([[i] for i in df.questionText.values]), axis=1)\n",
    "        tmp = tmp[np.where(tmp[:,768] == label)[0],:] # get only class vectors\n",
    "        \n",
    "        errors = list()\n",
    "        if tmp.shape[0] <= MIN_CLASS_SIZE:\n",
    "            error_stats[label] = errors\n",
    "            continue\n",
    "        \n",
    "        for i in range(len(tmp)):\n",
    "            # if cosine(cluster_centers[label], tmp[i,:768].astype(float)) > cluster_diameters_95th[label]:\n",
    "                # detect proposed class label\n",
    "            min_val, min_lbl = 1*10**100000, None\n",
    "            for label_tmp in df.type.unique():\n",
    "                if cosine(cluster_centers[label_tmp], tmp[i,:768].astype(float)) < min_val:\n",
    "                    min_val = cosine(cluster_centers[label_tmp], tmp[i,:768].astype(float))\n",
    "                    min_lbl = label_tmp\n",
    "            if min_lbl != label:\n",
    "                errors.append((tmp[i,769], min_lbl))\n",
    "                \n",
    "        error_stats[label] = errors\n",
    "    \n",
    "    error_dict[data] = error_stats\n",
    "    \n",
    "    # np.savetxt(f\"../../data/embeddings/{data}_embeddings\", result, delimiter='\\t')\n",
    "    # np.savetxt(f\"../../data/embeddings/{data}_labels\", df.type.values, delimiter='\\t', fmt=\"%s\")"
   ]
  },
  {
   "cell_type": "code",
   "execution_count": 80,
   "metadata": {},
   "outputs": [
    {
     "name": "stdout",
     "output_type": "stream",
     "text": [
      "24 1.284796573875803\n"
     ]
    }
   ],
   "source": [
    "cnt = 0\n",
    "df = pd.read_csv(f\"../../data/UnifiedSubclassDBpedia/LC-QuAD-train.csv\", sep=';')\n",
    "for k in list(error_dict['LC-QuAD'].keys()):\n",
    "    if df[df.type == k].shape[0] > MIN_CLASS_SIZE:\n",
    "        # print(k, len(error_dict['WebQuestions'][k])/ df[df.type == k].shape[0]*100)\n",
    "        cnt += len(error_dict['LC-QuAD'][k])\n",
    "    else:\n",
    "        cnt+= 0\n",
    "print(cnt, cnt/df.shape[0]*100)"
   ]
  },
  {
   "cell_type": "code",
   "execution_count": 81,
   "metadata": {},
   "outputs": [
    {
     "name": "stdout",
     "output_type": "stream",
     "text": [
      "14 3.5623409669211195\n"
     ]
    }
   ],
   "source": [
    "cnt = 0\n",
    "df = pd.read_csv(f\"../../data/UnifiedSubclassDBpedia/QALD-train.csv\", sep=';')\n",
    "for k in list(error_dict['QALD'].keys()):\n",
    "    if df[df.type == k].shape[0] > MIN_CLASS_SIZE:\n",
    "        # print(k, len(error_dict['WebQuestions'][k])/ df[df.type == k].shape[0]*100)\n",
    "        cnt += len(error_dict['QALD'][k])\n",
    "    else:\n",
    "        cnt+= 0\n",
    "print(cnt, cnt/df.shape[0]*100)"
   ]
  },
  {
   "cell_type": "code",
   "execution_count": 82,
   "metadata": {},
   "outputs": [
    {
     "name": "stdout",
     "output_type": "stream",
     "text": [
      "125 3.3756413718606533\n"
     ]
    }
   ],
   "source": [
    "cnt = 0\n",
    "df = pd.read_csv(f\"../../data/UnifiedSubclassDBpedia/CogComp-train.csv\", sep=';')\n",
    "for k in list(error_dict['CogComp'].keys()):\n",
    "    if df[df.type == k].shape[0] > MIN_CLASS_SIZE:\n",
    "        # print(k, len(error_dict['WebQuestions'][k])/ df[df.type == k].shape[0]*100)\n",
    "        cnt += len(error_dict['CogComp'][k])\n",
    "    else:\n",
    "        cnt+= 0\n",
    "print(cnt, cnt/df.shape[0]*100)"
   ]
  },
  {
   "cell_type": "code",
   "execution_count": 83,
   "metadata": {},
   "outputs": [
    {
     "name": "stdout",
     "output_type": "stream",
     "text": [
      "105 3.541315345699832\n"
     ]
    }
   ],
   "source": [
    "cnt = 0\n",
    "df = pd.read_csv(f\"../../data/UnifiedSubclassDBpedia/WebQuestions-train.csv\", sep=';')\n",
    "for k in list(error_dict['WebQuestions'].keys()):\n",
    "    if df[df.type == k].shape[0] > MIN_CLASS_SIZE:\n",
    "        # print(k, len(error_dict['WebQuestions'][k])/ df[df.type == k].shape[0]*100)\n",
    "        cnt += len(error_dict['WebQuestions'][k])\n",
    "    else:\n",
    "        cnt+= 0\n",
    "print(cnt, cnt/df.shape[0]*100)"
   ]
  },
  {
   "cell_type": "code",
   "execution_count": 84,
   "metadata": {},
   "outputs": [
    {
     "name": "stdout",
     "output_type": "stream",
     "text": [
      "1501 3.6303390896338215\n"
     ]
    }
   ],
   "source": [
    "cnt = 0\n",
    "df = pd.read_csv(f\"../../data/UnifiedSubclassDBpedia/SimpleQuestions-train.csv\", sep=';')\n",
    "for k in list(error_dict['SimpleQuestions'].keys()):\n",
    "    if df[df.type == k].shape[0] > MIN_CLASS_SIZE:\n",
    "        # print(k, len(error_dict['WebQuestions'][k])/ df[df.type == k].shape[0]*100)\n",
    "        cnt += len(error_dict['SimpleQuestions'][k])\n",
    "    else:\n",
    "        cnt+= 0\n",
    "print(cnt, cnt/df.shape[0]*100)"
   ]
  },
  {
   "cell_type": "code",
   "execution_count": 95,
   "metadata": {},
   "outputs": [],
   "source": [
    "matrix = list()\n",
    "\n",
    "for name in DATA_LIST:\n",
    "    row = list()\n",
    "    df = pd.read_csv(f\"../../data/UnifiedSubclassDBpedia/{name}-train.csv\", sep=';')\n",
    "    for label in CLASS_NAMES:\n",
    "        if label in list(error_dict[name].keys()):\n",
    "            row.append(len(error_dict[name][label])/df[df.type == label].shape[0]*100)\n",
    "        else:\n",
    "            row.append(0.0)\n",
    "    matrix.append(row)"
   ]
  },
  {
   "cell_type": "code",
   "execution_count": 96,
   "metadata": {},
   "outputs": [
    {
     "data": {
      "image/png": "[encoded data removed]",
      "text/plain": [
       "<Figure size 1152x216 with 2 Axes>"
      ]
     },
     "metadata": {
      "needs_background": "light"
     },
     "output_type": "display_data"
    }
   ],
   "source": [
    "import matplotlib.pylab as plt\n",
    "import seaborn as sns\n",
    "\n",
    "plt.rcParams[\"figure.figsize\"] = [16,3]\n",
    "plt.rcParams[\"font.size\"] = 12\n",
    "\n",
    "ax = sns.heatmap(\n",
    "    np.array(matrix),\n",
    "    linewidths=1,\n",
    "    annot=True,\n",
    "    xticklabels=CLASS_NAMES,\n",
    "    yticklabels=[data + '-train' for data in DATA_LIST],\n",
    "    cmap=\"Greys\"\n",
    ")\n",
    "plt.yticks(rotation=0) \n",
    "plt.show()"
   ]
  },
  {
   "cell_type": "code",
   "execution_count": 97,
   "metadata": {},
   "outputs": [],
   "source": [
    "with open(\"../../data/Insights/error_dict.json\", 'w') as f:\n",
    "    json.dump(error_dict, f, ensure_ascii=False, indent=4)"
   ]
  },
  {
   "cell_type": "code",
   "execution_count": 3,
   "metadata": {},
   "outputs": [],
   "source": [
    "error_dict = None\n",
    "with open(\"../../data/Insights/error_dict.json\") as f:\n",
    "    error_dict = json.load(f)"
   ]
  },
  {
   "cell_type": "code",
   "execution_count": 4,
   "metadata": {},
   "outputs": [],
   "source": [
    "for data in DATA_LIST:\n",
    "    question, label_, suggested = list(), list(), list()\n",
    "    for label in list(error_dict[data].keys()):\n",
    "        for q in error_dict[data][label]:\n",
    "            question.append(q[0])\n",
    "            label_.append(label)\n",
    "            suggested.append(q[1])\n",
    "            \n",
    "    df = pd.DataFrame.from_dict({'question': question, 'label': label_, 'suggested': suggested})\n",
    "    df.to_csv(f\"../../data/error_analysis/{data}.csv\", index=False, sep=';')"
   ]
  },
  {
   "cell_type": "code",
   "execution_count": 5,
   "metadata": {},
   "outputs": [
    {
     "data": {
      "text/html": [
       "<div>\n",
       "<style scoped>\n",
       "    .dataframe tbody tr th:only-of-type {\n",
       "        vertical-align: middle;\n",
       "    }\n",
       "\n",
       "    .dataframe tbody tr th {\n",
       "        vertical-align: top;\n",
       "    }\n",
       "\n",
       "    .dataframe thead th {\n",
       "        text-align: right;\n",
       "    }\n",
       "</style>\n",
       "<table border=\"1\" class=\"dataframe\">\n",
       "  <thead>\n",
       "    <tr style=\"text-align: right;\">\n",
       "      <th></th>\n",
       "      <th>question</th>\n",
       "      <th>label</th>\n",
       "      <th>suggested</th>\n",
       "    </tr>\n",
       "  </thead>\n",
       "  <tbody>\n",
       "    <tr>\n",
       "      <th>0</th>\n",
       "      <td>what did james madison wrote?</td>\n",
       "      <td>Place</td>\n",
       "      <td>Work</td>\n",
       "    </tr>\n",
       "    <tr>\n",
       "      <th>1</th>\n",
       "      <td>what does the letters eu stand for?</td>\n",
       "      <td>Place</td>\n",
       "      <td>String</td>\n",
       "    </tr>\n",
       "    <tr>\n",
       "      <th>2</th>\n",
       "      <td>what each fold of the us flag means?</td>\n",
       "      <td>Place</td>\n",
       "      <td>Flag</td>\n",
       "    </tr>\n",
       "    <tr>\n",
       "      <th>3</th>\n",
       "      <td>what else is there in orlando besides disney?</td>\n",
       "      <td>Place</td>\n",
       "      <td>Activity</td>\n",
       "    </tr>\n",
       "    <tr>\n",
       "      <th>4</th>\n",
       "      <td>what is illinois state bird?</td>\n",
       "      <td>Place</td>\n",
       "      <td>Species</td>\n",
       "    </tr>\n",
       "    <tr>\n",
       "      <th>...</th>\n",
       "      <td>...</td>\n",
       "      <td>...</td>\n",
       "      <td>...</td>\n",
       "    </tr>\n",
       "    <tr>\n",
       "      <th>100</th>\n",
       "      <td>who is ruling tunisia now?</td>\n",
       "      <td>Activity</td>\n",
       "      <td>Agent</td>\n",
       "    </tr>\n",
       "    <tr>\n",
       "      <th>101</th>\n",
       "      <td>what date did the san francisco giants win the...</td>\n",
       "      <td>Award</td>\n",
       "      <td>DateTime</td>\n",
       "    </tr>\n",
       "    <tr>\n",
       "      <th>102</th>\n",
       "      <td>what nationality is jermaine paul?</td>\n",
       "      <td>EthnicGroup</td>\n",
       "      <td>Place</td>\n",
       "    </tr>\n",
       "    <tr>\n",
       "      <th>103</th>\n",
       "      <td>what nationality is zack de la rocha?</td>\n",
       "      <td>EthnicGroup</td>\n",
       "      <td>Place</td>\n",
       "    </tr>\n",
       "    <tr>\n",
       "      <th>104</th>\n",
       "      <td>what did rob kardashian get surgery for?</td>\n",
       "      <td>Disease</td>\n",
       "      <td>AnatomicalStructure</td>\n",
       "    </tr>\n",
       "  </tbody>\n",
       "</table>\n",
       "<p>105 rows × 3 columns</p>\n",
       "</div>"
      ],
      "text/plain": [
       "                                              question        label  \\\n",
       "0                        what did james madison wrote?        Place   \n",
       "1                  what does the letters eu stand for?        Place   \n",
       "2                 what each fold of the us flag means?        Place   \n",
       "3        what else is there in orlando besides disney?        Place   \n",
       "4                         what is illinois state bird?        Place   \n",
       "..                                                 ...          ...   \n",
       "100                         who is ruling tunisia now?     Activity   \n",
       "101  what date did the san francisco giants win the...        Award   \n",
       "102                 what nationality is jermaine paul?  EthnicGroup   \n",
       "103              what nationality is zack de la rocha?  EthnicGroup   \n",
       "104           what did rob kardashian get surgery for?      Disease   \n",
       "\n",
       "               suggested  \n",
       "0                   Work  \n",
       "1                 String  \n",
       "2                   Flag  \n",
       "3               Activity  \n",
       "4                Species  \n",
       "..                   ...  \n",
       "100                Agent  \n",
       "101             DateTime  \n",
       "102                Place  \n",
       "103                Place  \n",
       "104  AnatomicalStructure  \n",
       "\n",
       "[105 rows x 3 columns]"
      ]
     },
     "execution_count": 5,
     "metadata": {},
     "output_type": "execute_result"
    }
   ],
   "source": []
  },
  {
   "cell_type": "code",
   "execution_count": 52,
   "metadata": {},
   "outputs": [
    {
     "data": {
      "text/plain": [
       "['What is the only modern language that capitalizes its singular first-person pronoun ?']"
      ]
     },
     "execution_count": 52,
     "metadata": {},
     "output_type": "execute_result"
    }
   ],
   "source": [
    "error_dict['CogComp']['Language']"
   ]
  },
  {
   "cell_type": "code",
   "execution_count": 96,
   "metadata": {},
   "outputs": [],
   "source": [
    "error_rates_dict = {\n",
    "    'LC-QuAD': 96,\n",
    "    'QALD': 21,\n",
    "    'CogComp': 191,\n",
    "    'WebQuestions': 153,\n",
    "    'SimpleQuestions': 2075\n",
    "}"
   ]
  },
  {
   "cell_type": "code",
   "execution_count": 102,
   "metadata": {},
   "outputs": [],
   "source": [
    "train_lst, test_lst, value_lst = list(), list(), list()\n",
    "\n",
    "for train in TRAIN_LIST:\n",
    "    for test in TEST_LIST:\n",
    "        error_cnt = 0\n",
    "        for ds in train.split('+'):\n",
    "            error_cnt+=error_rates_dict[ds]\n",
    "            \n",
    "        value_lst.append(error_cnt)\n",
    "        train_lst.append(train)\n",
    "        test_lst.append(test)"
   ]
  },
  {
   "cell_type": "code",
   "execution_count": 104,
   "metadata": {},
   "outputs": [],
   "source": [
    "df = pd.DataFrame.from_dict({'train': train_lst, 'test': test_lst, 'value': value_lst})"
   ]
  },
  {
   "cell_type": "code",
   "execution_count": 105,
   "metadata": {},
   "outputs": [],
   "source": [
    "df.to_csv(\"../../data/KL-divergence/error_abs.csv\", sep='$', index=False)"
   ]
  },
  {
   "cell_type": "code",
   "execution_count": null,
   "metadata": {},
   "outputs": [],
   "source": []
  }
 ],
 "metadata": {
  "kernelspec": {
   "display_name": "Python 3",
   "language": "python",
   "name": "python3"
  },
  "language_info": {
   "codemirror_mode": {
    "name": "ipython",
    "version": 3
   },
   "file_extension": ".py",
   "mimetype": "text/x-python",
   "name": "python",
   "nbconvert_exporter": "python",
   "pygments_lexer": "ipython3",
   "version": "3.6.10"
  }
 },
 "nbformat": 4,
 "nbformat_minor": 4
}
