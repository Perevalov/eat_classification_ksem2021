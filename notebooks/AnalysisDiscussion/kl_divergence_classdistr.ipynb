{
 "cells": [
  {
   "cell_type": "code",
   "execution_count": 1,
   "metadata": {},
   "outputs": [],
   "source": [
    "import pandas as pd\n",
    "from scipy.stats import entropy\n",
    "import numpy as np\n",
    "import seaborn as sns\n",
    "import matplotlib.pylab as plt"
   ]
  },
  {
   "cell_type": "code",
   "execution_count": 2,
   "metadata": {},
   "outputs": [],
   "source": [
    "lcquad = pd.read_csv(\"../../data/UnifiedSubclassDBpedia/LC-QuAD-train.csv\", sep=';')\n",
    "qald = pd.read_csv(\"../../data/UnifiedSubclassDBpedia/QALD-train.csv\", sep=';')\n",
    "cogcomp = pd.read_csv(\"../../data/UnifiedSubclassDBpedia/CogComp-train.csv\", sep=';')\n",
    "webq = pd.read_csv(\"../../data/UnifiedSubclassDBpedia/WebQuestions-train.csv\", sep=';')\n",
    "simpleq = pd.read_csv(\"../../data/UnifiedSubclassDBpedia/SimpleQuestions-train.csv\", sep=';')\n",
    "\n",
    "lcquad_ = pd.read_csv(\"../../data/UnifiedSubclassDBpedia/LC-QuAD-test.csv\", sep=';')\n",
    "qald_ = pd.read_csv(\"../../data/UnifiedSubclassDBpedia/QALD-test.csv\", sep=';')\n",
    "cogcomp_ = pd.read_csv(\"../../data/UnifiedSubclassDBpedia/CogComp-test.csv\", sep=';')\n",
    "webq_ = pd.read_csv(\"../../data/UnifiedSubclassDBpedia/WebQuestions-test.csv\", sep=';')\n",
    "simpleq_ = pd.read_csv(\"../../data/UnifiedSubclassDBpedia/SimpleQuestions-test.csv\", sep=';')\n",
    "\n",
    "train_datasets = [lcquad, qald, cogcomp, webq, simpleq]\n",
    "test_datasets = [lcquad_, qald_, cogcomp_, webq_, simpleq_]\n",
    "dataset_names = ['LC-QuAD', 'QALD', 'TREC', 'WebQuestions', 'SimpleQuestions']"
   ]
  },
  {
   "cell_type": "code",
   "execution_count": 3,
   "metadata": {},
   "outputs": [
    {
     "name": "stdout",
     "output_type": "stream",
     "text": [
      "31\n"
     ]
    }
   ],
   "source": [
    "class_names = list(set(list(lcquad.type.unique()) + \\\n",
    "                list(qald.type.unique()) + \\\n",
    "                list(cogcomp.type.unique()) + \\\n",
    "                list(webq.type.unique()) + \\\n",
    "                list(simpleq.type.unique())))\n",
    "\n",
    "print(len(class_names))"
   ]
  },
  {
   "cell_type": "code",
   "execution_count": 4,
   "metadata": {},
   "outputs": [],
   "source": [
    "def get_distributions(datasets):\n",
    "    distributions = list()\n",
    "    for ds in datasets:\n",
    "        ds_dict = {key: 0.0000000000000001 for key in class_names}\n",
    "\n",
    "        for cls in class_names:\n",
    "            if cls in ds.type.unique():\n",
    "                cls_prob = ds[ds.type == cls].shape[0]/ds.shape[0]\n",
    "                ds_dict[cls] = cls_prob\n",
    "\n",
    "        distributions.append(ds_dict)\n",
    "    return distributions"
   ]
  },
  {
   "cell_type": "code",
   "execution_count": 5,
   "metadata": {},
   "outputs": [],
   "source": [
    "train_distributions = get_distributions(train_datasets)\n",
    "test_distributions = get_distributions(test_datasets)"
   ]
  },
  {
   "cell_type": "code",
   "execution_count": 6,
   "metadata": {},
   "outputs": [
    {
     "name": "stdout",
     "output_type": "stream",
     "text": [
      ">>> LC-QuAD\n",
      "- LC-QuAD = 0.030781028522205225\n",
      "- QALD = 3.466993515875522\n",
      "- TREC = 2.8061742056807213\n",
      "- WebQuestions = 3.7743725064804794\n",
      "- SimpleQuestions = 1.6449862495238898\n",
      ">>> QALD\n",
      "- LC-QuAD = 0.9960256663600456\n",
      "- QALD = 0.40678889355141196\n",
      "- TREC = 1.160105766473638\n",
      "- WebQuestions = 0.7738331252208438\n",
      "- SimpleQuestions = 1.5792715102876733\n",
      ">>> TREC\n",
      "- LC-QuAD = 7.104581091966337\n",
      "- QALD = 1.2296487727070313\n",
      "- TREC = 0.013898904550896738\n",
      "- WebQuestions = 1.0296454832259674\n",
      "- SimpleQuestions = 1.4333302708225326\n",
      ">>> WebQuestions\n",
      "- LC-QuAD = 7.078097129226625\n",
      "- QALD = 1.4080109518339612\n",
      "- TREC = 1.0899438921065134\n",
      "- WebQuestions = 0.012033880566751004\n",
      "- SimpleQuestions = 0.23610305688939903\n",
      ">>> SimpleQuestions\n",
      "- LC-QuAD = 16.319817360779474\n",
      "- QALD = 11.62967599867662\n",
      "- TREC = 17.126709879529262\n",
      "- WebQuestions = 4.6075088529830195\n",
      "- SimpleQuestions = 0.002238770684243954\n"
     ]
    }
   ],
   "source": [
    "matrix = list()\n",
    "for i in range(len(train_distributions)):\n",
    "    print('>>>', dataset_names[i])\n",
    "    row = list()\n",
    "    for j in range(len(test_distributions)):\n",
    "        q, p = list(train_distributions[i].values()), list(test_distributions[j].values())\n",
    "        kl_div = entropy(pk=p, qk=q)\n",
    "        row.append(kl_div)\n",
    "        print('-', dataset_names[j], '=', kl_div)\n",
    "    matrix.append(row)"
   ]
  },
  {
   "cell_type": "code",
   "execution_count": 8,
   "metadata": {},
   "outputs": [
    {
     "data": {
      "image/png": "[encoded data removed]",
      "text/plain": [
       "<Figure size 1152x360 with 2 Axes>"
      ]
     },
     "metadata": {
      "needs_background": "light"
     },
     "output_type": "display_data"
    }
   ],
   "source": [
    "plt.rcParams[\"figure.figsize\"] = [16,5]\n",
    "plt.rcParams[\"font.size\"] = 12\n",
    "\n",
    "ax = sns.heatmap(\n",
    "    np.array(matrix),\n",
    "    linewidths=1,\n",
    "    annot=True,\n",
    "    xticklabels=[name + '-test' for name in dataset_names],\n",
    "    yticklabels=[name + '-train' for name in dataset_names],\n",
    "    cmap=\"Greys\"\n",
    ")\n",
    "\n",
    "plt.show()"
   ]
  },
  {
   "cell_type": "code",
   "execution_count": null,
   "metadata": {},
   "outputs": [],
   "source": []
  },
  {
   "cell_type": "code",
   "execution_count": null,
   "metadata": {},
   "outputs": [],
   "source": []
  }
 ],
 "metadata": {
  "kernelspec": {
   "display_name": "Python 3",
   "language": "python",
   "name": "python3"
  },
  "language_info": {
   "codemirror_mode": {
    "name": "ipython",
    "version": 3
   },
   "file_extension": ".py",
   "mimetype": "text/x-python",
   "name": "python",
   "nbconvert_exporter": "python",
   "pygments_lexer": "ipython3",
   "version": "3.6.4"
  }
 },
 "nbformat": 4,
 "nbformat_minor": 2
}
