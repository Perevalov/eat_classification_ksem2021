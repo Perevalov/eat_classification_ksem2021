{
 "cells": [
  {
   "cell_type": "code",
   "execution_count": 5,
   "metadata": {},
   "outputs": [],
   "source": [
    "import pandas as pd\n",
    "from scipy.stats import entropy\n",
    "import numpy as np\n",
    "import seaborn as sns\n",
    "import matplotlib.pylab as plt"
   ]
  },
  {
   "cell_type": "code",
   "execution_count": 4,
   "metadata": {},
   "outputs": [],
   "source": [
    "TRAIN_LIST = ['LC-QuAD',\n",
    "                'QALD',\n",
    "                'CogComp',\n",
    "                'WebQuestions',\n",
    "                'SimpleQuestions',\n",
    "                'LC-QuAD+QALD',\n",
    "                'LC-QuAD+CogComp',\n",
    "                'LC-QuAD+WebQuestions',\n",
    "                'LC-QuAD+SimpleQuestions',\n",
    "                'QALD+CogComp',\n",
    "                'QALD+WebQuestions',\n",
    "                'QALD+SimpleQuestions',\n",
    "                'CogComp+WebQuestions',\n",
    "                'CogComp+SimpleQuestions',\n",
    "                'WebQuestions+SimpleQuestions',\n",
    "                'LC-QuAD+QALD+CogComp',\n",
    "                'LC-QuAD+QALD+WebQuestions',\n",
    "                'LC-QuAD+QALD+SimpleQuestions',\n",
    "                'LC-QuAD+CogComp+WebQuestions',\n",
    "                'LC-QuAD+CogComp+SimpleQuestions',\n",
    "                'LC-QuAD+WebQuestions+SimpleQuestions',\n",
    "                'QALD+CogComp+WebQuestions',\n",
    "                'QALD+CogComp+SimpleQuestions',\n",
    "                'QALD+WebQuestions+SimpleQuestions',\n",
    "                'CogComp+WebQuestions+SimpleQuestions',\n",
    "                'LC-QuAD+QALD+CogComp+WebQuestions',\n",
    "                'LC-QuAD+QALD+CogComp+SimpleQuestions',\n",
    "                'LC-QuAD+QALD+WebQuestions+SimpleQuestions',\n",
    "                'LC-QuAD+CogComp+WebQuestions+SimpleQuestions',\n",
    "                'QALD+CogComp+WebQuestions+SimpleQuestions',\n",
    "                'LC-QuAD+QALD+CogComp+WebQuestions+SimpleQuestions']\n",
    "\n",
    "TEST_LIST = ['LC-QuAD', 'QALD', 'CogComp', 'WebQuestions', 'SimpleQuestions']\n",
    "\n",
    "CLASS_NAMES = [\n",
    "    'List',\n",
    "    'Award',\n",
    "    'Disease',\n",
    "    'Boolean',\n",
    "    'EthnicGroup',\n",
    "    'Event',\n",
    "    'Work',\n",
    "    'TimePeriod',\n",
    "    'DateTime',\n",
    "    'Flag',\n",
    "    'Holiday',\n",
    "    'ChemicalSubstance',\n",
    "    'Currency',\n",
    "    'PersonFunction',\n",
    "    'SportsSeason',\n",
    "    'Activity',\n",
    "    'Medicine',\n",
    "    'Species',\n",
    "    'Altitude',\n",
    "    'Colour',\n",
    "    'Device',\n",
    "    'Language',\n",
    "    'Number',\n",
    "    'MeanOfTransportation',\n",
    "    'Food',\n",
    "    'TopicalConcept',\n",
    "    'AnatomicalStructure',\n",
    "    'Agent',\n",
    "    'Place',\n",
    "    'String'\n",
    "]"
   ]
  },
  {
   "cell_type": "code",
   "execution_count": 10,
   "metadata": {},
   "outputs": [],
   "source": [
    "def get_distributions(dataset):\n",
    "    ds_dict = {key: 0.0000000000000001 for key in CLASS_NAMES}\n",
    "\n",
    "    for cls in CLASS_NAMES:\n",
    "        if cls in dataset.type.unique():\n",
    "            cls_prob = dataset[dataset.type == cls].shape[0]/dataset.shape[0]\n",
    "            ds_dict[cls] = cls_prob\n",
    "\n",
    "    return ds_dict"
   ]
  },
  {
   "cell_type": "code",
   "execution_count": 12,
   "metadata": {},
   "outputs": [],
   "source": [
    "train_distributions, test_distributions = list(), list()\n",
    "\n",
    "for train in TRAIN_LIST:\n",
    "    df = pd.read_csv(f\"../../data/UnifiedSubclassDBpedia/{train}-train.csv\", sep=';')\n",
    "    train_distributions.append(get_distributions(df))\n",
    "\n",
    "for test in TEST_LIST:\n",
    "    df = pd.read_csv(f\"../../data/UnifiedSubclassDBpedia/{test}-test.csv\", sep=';')\n",
    "    test_distributions.append(get_distributions(df))"
   ]
  },
  {
   "cell_type": "code",
   "execution_count": 17,
   "metadata": {},
   "outputs": [],
   "source": [
    "matrix = list()\n",
    "for i in range(len(train_distributions)):\n",
    "    # print('>>>', dataset_names[i])\n",
    "    row = list()\n",
    "    for j in range(len(test_distributions)):\n",
    "        q, p = list(train_distributions[i].values()), list(test_distributions[j].values())\n",
    "        kl_div = entropy(pk=p, qk=q)\n",
    "        row.append(kl_div)\n",
    "        # print('-', dataset_names[j], '=', kl_div)\n",
    "    matrix.append(row)"
   ]
  },
  {
   "cell_type": "code",
   "execution_count": 1,
   "metadata": {},
   "outputs": [
    {
     "ename": "NameError",
     "evalue": "name 'plt' is not defined",
     "output_type": "error",
     "traceback": [
      "\u001b[0;31m---------------------------------------------------------------------------\u001b[0m",
      "\u001b[0;31mNameError\u001b[0m                                 Traceback (most recent call last)",
      "\u001b[0;32m<ipython-input-1-9b2c3f41f29b>\u001b[0m in \u001b[0;36m<module>\u001b[0;34m()\u001b[0m\n\u001b[0;32m----> 1\u001b[0;31m \u001b[0mplt\u001b[0m\u001b[0;34m.\u001b[0m\u001b[0mrcParams\u001b[0m\u001b[0;34m[\u001b[0m\u001b[0;34m\"figure.figsize\"\u001b[0m\u001b[0;34m]\u001b[0m \u001b[0;34m=\u001b[0m \u001b[0;34m[\u001b[0m\u001b[0;36m16\u001b[0m\u001b[0;34m,\u001b[0m\u001b[0;36m9\u001b[0m\u001b[0;34m]\u001b[0m\u001b[0;34m\u001b[0m\u001b[0m\n\u001b[0m\u001b[1;32m      2\u001b[0m \u001b[0mplt\u001b[0m\u001b[0;34m.\u001b[0m\u001b[0mrcParams\u001b[0m\u001b[0;34m[\u001b[0m\u001b[0;34m\"font.size\"\u001b[0m\u001b[0;34m]\u001b[0m \u001b[0;34m=\u001b[0m \u001b[0;36m12\u001b[0m\u001b[0;34m\u001b[0m\u001b[0m\n\u001b[1;32m      3\u001b[0m \u001b[0;34m\u001b[0m\u001b[0m\n\u001b[1;32m      4\u001b[0m ax = sns.heatmap(\n\u001b[1;32m      5\u001b[0m     \u001b[0mnp\u001b[0m\u001b[0;34m.\u001b[0m\u001b[0marray\u001b[0m\u001b[0;34m(\u001b[0m\u001b[0mmatrix\u001b[0m\u001b[0;34m)\u001b[0m\u001b[0;34m,\u001b[0m\u001b[0;34m\u001b[0m\u001b[0m\n",
      "\u001b[0;31mNameError\u001b[0m: name 'plt' is not defined"
     ]
    }
   ],
   "source": [
    "plt.rcParams[\"figure.figsize\"] = [16,9]\n",
    "plt.rcParams[\"font.size\"] = 12\n",
    "\n",
    "ax = sns.heatmap(\n",
    "    np.array(matrix),\n",
    "    linewidths=1,\n",
    "    annot=True,\n",
    "    xticklabels=TEST_LIST,\n",
    "    yticklabels=TRAIN_LIST,\n",
    "    cmap=\"Greys\"\n",
    ")\n",
    "\n",
    "plt.show()"
   ]
  },
  {
   "cell_type": "code",
   "execution_count": 19,
   "metadata": {},
   "outputs": [],
   "source": [
    "train, test, value = list(), list(), list()\n",
    "for i in range(len(matrix)):\n",
    "    for j in range(len(matrix[i])):\n",
    "        train.append(TRAIN_LIST[i])\n",
    "        test.append(TEST_LIST[j])\n",
    "        value.append(matrix[i][j])"
   ]
  },
  {
   "cell_type": "code",
   "execution_count": 22,
   "metadata": {},
   "outputs": [],
   "source": [
    "kld_df = pd.DataFrame.from_dict({'train': train, 'test': test, 'value': value})"
   ]
  },
  {
   "cell_type": "code",
   "execution_count": 23,
   "metadata": {},
   "outputs": [],
   "source": [
    "kld_df.to_csv(\"../../data/KL-divergence/kld.csv\", index=False, sep=';')"
   ]
  },
  {
   "cell_type": "code",
   "execution_count": 54,
   "metadata": {},
   "outputs": [],
   "source": [
    "bert = pd.read_csv(\"../../data/KL-divergence/bert.csv\")\n",
    "bert = bert['F1 Score'].apply(lambda x: x.replace(',', '.')).astype(float).values[:-1]\n",
    "\n",
    "roberta = pd.read_csv(\"../../data/KL-divergence/roberta.csv\")\n",
    "roberta = roberta['F1 Score'].apply(lambda x: x.replace(',', '.')).astype(float).values[:-1]\n",
    "\n",
    "distilbert = pd.read_csv(\"../../data/KL-divergence/distilbert.csv\")\n",
    "distilbert = distilbert['F1 Score'].apply(lambda x: x.replace(',', '.')).astype(float).values[:-1]\n",
    "\n",
    "kld = pd.read_csv(\"../../data/KL-divergence/kld-sorted.csv\")\n",
    "kld = kld['value'].apply(lambda x: x.replace(',', '.')).astype(float)"
   ]
  },
  {
   "cell_type": "code",
   "execution_count": 67,
   "metadata": {},
   "outputs": [
    {
     "data": {
      "image/png": "[encoded data removed]",
      "text/plain": [
       "<Figure size 1080x432 with 3 Axes>"
      ]
     },
     "metadata": {},
     "output_type": "display_data"
    }
   ],
   "source": [
    "import matplotlib.pyplot as plt\n",
    "import matplotlib.cm as cm\n",
    "\n",
    "fig, axs = plt.subplots(1, 3, figsize=(15, 6), sharex=True, sharey=True)\n",
    "fig.text(\n",
    "    0.5,\n",
    "    0.004,\n",
    "    'Kullback–Leibler divergence value for class distributions of test and train',\n",
    "    ha='center'\n",
    ")\n",
    "\n",
    "x = kld\n",
    "y1 = bert*100\n",
    "y2 = roberta*100\n",
    "y3 = distilbert*100\n",
    "\n",
    "axs[0].set_title(\"bert-base-cased\")\n",
    "axs[0].plot(x, y1, 'o', color='black')\n",
    "axs[0].set_ylabel('F1 Score, %')\n",
    "axs[0].set_ylim([0, 100])\n",
    "\n",
    "axs[1].set_title(\"roberta-base\")\n",
    "axs[1].plot(x, y2, 'o', color='black')\n",
    "\n",
    "axs[2].set_title(\"distilbert-base-uncased\")\n",
    "axs[2].plot(x, y3, 'o', color='black')\n",
    "\n",
    "plt.tight_layout()"
   ]
  },
  {
   "cell_type": "code",
   "execution_count": null,
   "metadata": {},
   "outputs": [],
   "source": []
  },
  {
   "cell_type": "code",
   "execution_count": null,
   "metadata": {},
   "outputs": [],
   "source": []
  }
 ],
 "metadata": {
  "kernelspec": {
   "display_name": "Python 3",
   "language": "python",
   "name": "python3"
  },
  "language_info": {
   "codemirror_mode": {
    "name": "ipython",
    "version": 3
   },
   "file_extension": ".py",
   "mimetype": "text/x-python",
   "name": "python",
   "nbconvert_exporter": "python",
   "pygments_lexer": "ipython3",
   "version": "3.6.4"
  }
 },
 "nbformat": 4,
 "nbformat_minor": 2
}
